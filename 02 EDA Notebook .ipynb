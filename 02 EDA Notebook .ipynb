{
 "cells": [
  {
   "cell_type": "code",
   "execution_count": 10,
   "metadata": {},
   "outputs": [],
   "source": [
    "import pandas as pd\n",
    "import numpy as np\n",
    "import matplotlib.pyplot as plt"
   ]
  },
  {
   "cell_type": "code",
   "execution_count": 2,
   "metadata": {},
   "outputs": [
    {
     "data": {
      "text/html": [
       "<div>\n",
       "<style scoped>\n",
       "    .dataframe tbody tr th:only-of-type {\n",
       "        vertical-align: middle;\n",
       "    }\n",
       "\n",
       "    .dataframe tbody tr th {\n",
       "        vertical-align: top;\n",
       "    }\n",
       "\n",
       "    .dataframe thead th {\n",
       "        text-align: right;\n",
       "    }\n",
       "</style>\n",
       "<table border=\"1\" class=\"dataframe\">\n",
       "  <thead>\n",
       "    <tr style=\"text-align: right;\">\n",
       "      <th></th>\n",
       "      <th>time</th>\n",
       "      <th>value</th>\n",
       "      <th>NICU_ID</th>\n",
       "      <th>field</th>\n",
       "      <th>measurement</th>\n",
       "      <th>hospital_ID</th>\n",
       "      <th>patient_ID</th>\n",
       "      <th>signal_type</th>\n",
       "    </tr>\n",
       "  </thead>\n",
       "  <tbody>\n",
       "    <tr>\n",
       "      <th>0</th>\n",
       "      <td>1.630454e+09</td>\n",
       "      <td>171</td>\n",
       "      <td>Bed  1</td>\n",
       "      <td>signal_value</td>\n",
       "      <td>rawsignal</td>\n",
       "      <td>UZA</td>\n",
       "      <td>257777778</td>\n",
       "      <td>HF</td>\n",
       "    </tr>\n",
       "    <tr>\n",
       "      <th>1</th>\n",
       "      <td>1.630454e+09</td>\n",
       "      <td>170</td>\n",
       "      <td>Bed  1</td>\n",
       "      <td>signal_value</td>\n",
       "      <td>rawsignal</td>\n",
       "      <td>UZA</td>\n",
       "      <td>257777778</td>\n",
       "      <td>HF</td>\n",
       "    </tr>\n",
       "    <tr>\n",
       "      <th>2</th>\n",
       "      <td>1.630454e+09</td>\n",
       "      <td>170</td>\n",
       "      <td>Bed  1</td>\n",
       "      <td>signal_value</td>\n",
       "      <td>rawsignal</td>\n",
       "      <td>UZA</td>\n",
       "      <td>257777778</td>\n",
       "      <td>HF</td>\n",
       "    </tr>\n",
       "    <tr>\n",
       "      <th>3</th>\n",
       "      <td>1.630454e+09</td>\n",
       "      <td>170</td>\n",
       "      <td>Bed  1</td>\n",
       "      <td>signal_value</td>\n",
       "      <td>rawsignal</td>\n",
       "      <td>UZA</td>\n",
       "      <td>257777778</td>\n",
       "      <td>HF</td>\n",
       "    </tr>\n",
       "    <tr>\n",
       "      <th>4</th>\n",
       "      <td>1.630455e+09</td>\n",
       "      <td>169</td>\n",
       "      <td>Bed  1</td>\n",
       "      <td>signal_value</td>\n",
       "      <td>rawsignal</td>\n",
       "      <td>UZA</td>\n",
       "      <td>257777778</td>\n",
       "      <td>HF</td>\n",
       "    </tr>\n",
       "  </tbody>\n",
       "</table>\n",
       "</div>"
      ],
      "text/plain": [
       "           time  value NICU_ID         field measurement hospital_ID  \\\n",
       "0  1.630454e+09    171  Bed  1  signal_value   rawsignal         UZA   \n",
       "1  1.630454e+09    170  Bed  1  signal_value   rawsignal         UZA   \n",
       "2  1.630454e+09    170  Bed  1  signal_value   rawsignal         UZA   \n",
       "3  1.630454e+09    170  Bed  1  signal_value   rawsignal         UZA   \n",
       "4  1.630455e+09    169  Bed  1  signal_value   rawsignal         UZA   \n",
       "\n",
       "   patient_ID signal_type  \n",
       "0   257777778          HF  \n",
       "1   257777778          HF  \n",
       "2   257777778          HF  \n",
       "3   257777778          HF  \n",
       "4   257777778          HF  "
      ]
     },
     "execution_count": 2,
     "metadata": {},
     "output_type": "execute_result"
    }
   ],
   "source": [
    "rawsignals = pd.read_csv(\"patient_rawsignals.txt\", sep = \";\")\n",
    "rawsignals.head()"
   ]
  },
  {
   "cell_type": "code",
   "execution_count": 9,
   "metadata": {},
   "outputs": [
    {
     "data": {
      "text/html": [
       "<div>\n",
       "<style scoped>\n",
       "    .dataframe tbody tr th:only-of-type {\n",
       "        vertical-align: middle;\n",
       "    }\n",
       "\n",
       "    .dataframe tbody tr th {\n",
       "        vertical-align: top;\n",
       "    }\n",
       "\n",
       "    .dataframe thead th {\n",
       "        text-align: right;\n",
       "    }\n",
       "</style>\n",
       "<table border=\"1\" class=\"dataframe\">\n",
       "  <thead>\n",
       "    <tr style=\"text-align: right;\">\n",
       "      <th></th>\n",
       "      <th>time</th>\n",
       "      <th>value</th>\n",
       "      <th>NICU_ID</th>\n",
       "      <th>field</th>\n",
       "      <th>measurement</th>\n",
       "      <th>hospital_ID</th>\n",
       "      <th>patient_ID</th>\n",
       "      <th>signal_type</th>\n",
       "    </tr>\n",
       "  </thead>\n",
       "  <tbody>\n",
       "    <tr>\n",
       "      <th>0</th>\n",
       "      <td>1.630454e+09</td>\n",
       "      <td>171</td>\n",
       "      <td>Bed  1</td>\n",
       "      <td>signal_value</td>\n",
       "      <td>rawsignal</td>\n",
       "      <td>UZA</td>\n",
       "      <td>257777778</td>\n",
       "      <td>HF</td>\n",
       "    </tr>\n",
       "    <tr>\n",
       "      <th>1</th>\n",
       "      <td>1.630454e+09</td>\n",
       "      <td>170</td>\n",
       "      <td>Bed  1</td>\n",
       "      <td>signal_value</td>\n",
       "      <td>rawsignal</td>\n",
       "      <td>UZA</td>\n",
       "      <td>257777778</td>\n",
       "      <td>HF</td>\n",
       "    </tr>\n",
       "    <tr>\n",
       "      <th>2</th>\n",
       "      <td>1.630454e+09</td>\n",
       "      <td>170</td>\n",
       "      <td>Bed  1</td>\n",
       "      <td>signal_value</td>\n",
       "      <td>rawsignal</td>\n",
       "      <td>UZA</td>\n",
       "      <td>257777778</td>\n",
       "      <td>HF</td>\n",
       "    </tr>\n",
       "    <tr>\n",
       "      <th>3</th>\n",
       "      <td>1.630454e+09</td>\n",
       "      <td>170</td>\n",
       "      <td>Bed  1</td>\n",
       "      <td>signal_value</td>\n",
       "      <td>rawsignal</td>\n",
       "      <td>UZA</td>\n",
       "      <td>257777778</td>\n",
       "      <td>HF</td>\n",
       "    </tr>\n",
       "    <tr>\n",
       "      <th>4</th>\n",
       "      <td>1.630455e+09</td>\n",
       "      <td>169</td>\n",
       "      <td>Bed  1</td>\n",
       "      <td>signal_value</td>\n",
       "      <td>rawsignal</td>\n",
       "      <td>UZA</td>\n",
       "      <td>257777778</td>\n",
       "      <td>HF</td>\n",
       "    </tr>\n",
       "    <tr>\n",
       "      <th>...</th>\n",
       "      <td>...</td>\n",
       "      <td>...</td>\n",
       "      <td>...</td>\n",
       "      <td>...</td>\n",
       "      <td>...</td>\n",
       "      <td>...</td>\n",
       "      <td>...</td>\n",
       "      <td>...</td>\n",
       "    </tr>\n",
       "    <tr>\n",
       "      <th>28795</th>\n",
       "      <td>1.631318e+09</td>\n",
       "      <td>184</td>\n",
       "      <td>Bed  1</td>\n",
       "      <td>signal_value</td>\n",
       "      <td>rawsignal</td>\n",
       "      <td>UZA</td>\n",
       "      <td>257777778</td>\n",
       "      <td>HF</td>\n",
       "    </tr>\n",
       "    <tr>\n",
       "      <th>28796</th>\n",
       "      <td>1.631318e+09</td>\n",
       "      <td>184</td>\n",
       "      <td>Bed  1</td>\n",
       "      <td>signal_value</td>\n",
       "      <td>rawsignal</td>\n",
       "      <td>UZA</td>\n",
       "      <td>257777778</td>\n",
       "      <td>HF</td>\n",
       "    </tr>\n",
       "    <tr>\n",
       "      <th>28797</th>\n",
       "      <td>1.631318e+09</td>\n",
       "      <td>184</td>\n",
       "      <td>Bed  1</td>\n",
       "      <td>signal_value</td>\n",
       "      <td>rawsignal</td>\n",
       "      <td>UZA</td>\n",
       "      <td>257777778</td>\n",
       "      <td>HF</td>\n",
       "    </tr>\n",
       "    <tr>\n",
       "      <th>28798</th>\n",
       "      <td>1.631318e+09</td>\n",
       "      <td>184</td>\n",
       "      <td>Bed  1</td>\n",
       "      <td>signal_value</td>\n",
       "      <td>rawsignal</td>\n",
       "      <td>UZA</td>\n",
       "      <td>257777778</td>\n",
       "      <td>HF</td>\n",
       "    </tr>\n",
       "    <tr>\n",
       "      <th>28799</th>\n",
       "      <td>1.631318e+09</td>\n",
       "      <td>184</td>\n",
       "      <td>Bed  1</td>\n",
       "      <td>signal_value</td>\n",
       "      <td>rawsignal</td>\n",
       "      <td>UZA</td>\n",
       "      <td>257777778</td>\n",
       "      <td>HF</td>\n",
       "    </tr>\n",
       "  </tbody>\n",
       "</table>\n",
       "<p>28800 rows × 8 columns</p>\n",
       "</div>"
      ],
      "text/plain": [
       "               time  value NICU_ID         field measurement hospital_ID  \\\n",
       "0      1.630454e+09    171  Bed  1  signal_value   rawsignal         UZA   \n",
       "1      1.630454e+09    170  Bed  1  signal_value   rawsignal         UZA   \n",
       "2      1.630454e+09    170  Bed  1  signal_value   rawsignal         UZA   \n",
       "3      1.630454e+09    170  Bed  1  signal_value   rawsignal         UZA   \n",
       "4      1.630455e+09    169  Bed  1  signal_value   rawsignal         UZA   \n",
       "...             ...    ...     ...           ...         ...         ...   \n",
       "28795  1.631318e+09    184  Bed  1  signal_value   rawsignal         UZA   \n",
       "28796  1.631318e+09    184  Bed  1  signal_value   rawsignal         UZA   \n",
       "28797  1.631318e+09    184  Bed  1  signal_value   rawsignal         UZA   \n",
       "28798  1.631318e+09    184  Bed  1  signal_value   rawsignal         UZA   \n",
       "28799  1.631318e+09    184  Bed  1  signal_value   rawsignal         UZA   \n",
       "\n",
       "       patient_ID signal_type  \n",
       "0       257777778          HF  \n",
       "1       257777778          HF  \n",
       "2       257777778          HF  \n",
       "3       257777778          HF  \n",
       "4       257777778          HF  \n",
       "...           ...         ...  \n",
       "28795   257777778          HF  \n",
       "28796   257777778          HF  \n",
       "28797   257777778          HF  \n",
       "28798   257777778          HF  \n",
       "28799   257777778          HF  \n",
       "\n",
       "[28800 rows x 8 columns]"
      ]
     },
     "execution_count": 9,
     "metadata": {},
     "output_type": "execute_result"
    }
   ],
   "source": [
    "HF = rawsignals.loc[np.logical_and(rawsignals['signal_type'] == \"HF\", rawsignals['patient_ID'] == 257777778)]\n",
    "HF"
   ]
  },
  {
   "cell_type": "code",
   "execution_count": 15,
   "metadata": {},
   "outputs": [
    {
     "data": {
      "text/plain": [
       "<matplotlib.collections.PathCollection at 0x7fe7b4024410>"
      ]
     },
     "execution_count": 15,
     "metadata": {},
     "output_type": "execute_result"
    },
    {
     "data": {
      "image/png": "[encoded data removed]",
      "text/plain": [
       "<Figure size 432x288 with 1 Axes>"
      ]
     },
     "metadata": {
      "needs_background": "light"
     },
     "output_type": "display_data"
    }
   ],
   "source": [
    "HF_sub = HF.iloc[1:2000]\n",
    "plt.plot(HF_sub['time'], HF_sub['value'])\n",
    "plt.scatter(HF_sub['time'], HF_sub['value'])"
   ]
  },
  {
   "cell_type": "code",
   "execution_count": 19,
   "metadata": {},
   "outputs": [
    {
     "data": {
      "text/plain": [
       "<matplotlib.collections.PathCollection at 0x7fe7b4a8a3d0>"
      ]
     },
     "execution_count": 19,
     "metadata": {},
     "output_type": "execute_result"
    },
    {
     "data": {
      "image/png": "[encoded data removed]",
      "text/plain": [
       "<Figure size 432x288 with 1 Axes>"
      ]
     },
     "metadata": {
      "needs_background": "light"
     },
     "output_type": "display_data"
    }
   ],
   "source": [
    "Temp = rawsignals.loc[np.logical_and(rawsignals['signal_type'] == \"Taxillair\", rawsignals['patient_ID'] == 257777778)]\n",
    "Temp\n",
    "\n",
    "T_sub = Temp.iloc[1:10]\n",
    "plt.plot(T_sub['time'], T_sub['value'])\n",
    "plt.scatter(T_sub['time'], T_sub['value'])"
   ]
  },
  {
   "cell_type": "code",
   "execution_count": 17,
   "metadata": {},
   "outputs": [
    {
     "data": {
      "text/html": [
       "<div>\n",
       "<style scoped>\n",
       "    .dataframe tbody tr th:only-of-type {\n",
       "        vertical-align: middle;\n",
       "    }\n",
       "\n",
       "    .dataframe tbody tr th {\n",
       "        vertical-align: top;\n",
       "    }\n",
       "\n",
       "    .dataframe thead th {\n",
       "        text-align: right;\n",
       "    }\n",
       "</style>\n",
       "<table border=\"1\" class=\"dataframe\">\n",
       "  <thead>\n",
       "    <tr style=\"text-align: right;\">\n",
       "      <th></th>\n",
       "      <th>time</th>\n",
       "      <th>value</th>\n",
       "      <th>NICU_ID</th>\n",
       "      <th>field</th>\n",
       "      <th>measurement</th>\n",
       "      <th>hospital_ID</th>\n",
       "      <th>patient_ID</th>\n",
       "      <th>signal_type</th>\n",
       "    </tr>\n",
       "  </thead>\n",
       "  <tbody>\n",
       "    <tr>\n",
       "      <th>86399</th>\n",
       "      <td>1.630454e+09</td>\n",
       "      <td>97</td>\n",
       "      <td>Bed  1</td>\n",
       "      <td>signal_value</td>\n",
       "      <td>rawsignal</td>\n",
       "      <td>UZA</td>\n",
       "      <td>257777778</td>\n",
       "      <td>Taxillair</td>\n",
       "    </tr>\n",
       "    <tr>\n",
       "      <th>86400</th>\n",
       "      <td>1.630469e+09</td>\n",
       "      <td>99</td>\n",
       "      <td>Bed  1</td>\n",
       "      <td>signal_value</td>\n",
       "      <td>rawsignal</td>\n",
       "      <td>UZA</td>\n",
       "      <td>257777778</td>\n",
       "      <td>Taxillair</td>\n",
       "    </tr>\n",
       "    <tr>\n",
       "      <th>86401</th>\n",
       "      <td>1.630483e+09</td>\n",
       "      <td>98</td>\n",
       "      <td>Bed  1</td>\n",
       "      <td>signal_value</td>\n",
       "      <td>rawsignal</td>\n",
       "      <td>UZA</td>\n",
       "      <td>257777778</td>\n",
       "      <td>Taxillair</td>\n",
       "    </tr>\n",
       "    <tr>\n",
       "      <th>86402</th>\n",
       "      <td>1.630498e+09</td>\n",
       "      <td>103</td>\n",
       "      <td>Bed  1</td>\n",
       "      <td>signal_value</td>\n",
       "      <td>rawsignal</td>\n",
       "      <td>UZA</td>\n",
       "      <td>257777778</td>\n",
       "      <td>Taxillair</td>\n",
       "    </tr>\n",
       "    <tr>\n",
       "      <th>86403</th>\n",
       "      <td>1.630512e+09</td>\n",
       "      <td>97</td>\n",
       "      <td>Bed  1</td>\n",
       "      <td>signal_value</td>\n",
       "      <td>rawsignal</td>\n",
       "      <td>UZA</td>\n",
       "      <td>257777778</td>\n",
       "      <td>Taxillair</td>\n",
       "    </tr>\n",
       "  </tbody>\n",
       "</table>\n",
       "</div>"
      ],
      "text/plain": [
       "               time  value NICU_ID         field measurement hospital_ID  \\\n",
       "86399  1.630454e+09     97  Bed  1  signal_value   rawsignal         UZA   \n",
       "86400  1.630469e+09     99  Bed  1  signal_value   rawsignal         UZA   \n",
       "86401  1.630483e+09     98  Bed  1  signal_value   rawsignal         UZA   \n",
       "86402  1.630498e+09    103  Bed  1  signal_value   rawsignal         UZA   \n",
       "86403  1.630512e+09     97  Bed  1  signal_value   rawsignal         UZA   \n",
       "\n",
       "       patient_ID signal_type  \n",
       "86399   257777778   Taxillair  \n",
       "86400   257777778   Taxillair  \n",
       "86401   257777778   Taxillair  \n",
       "86402   257777778   Taxillair  \n",
       "86403   257777778   Taxillair  "
      ]
     },
     "execution_count": 17,
     "metadata": {},
     "output_type": "execute_result"
    }
   ],
   "source": [
    "Temp.head()"
   ]
  },
  {
   "cell_type": "code",
   "execution_count": 24,
   "metadata": {},
   "outputs": [
    {
     "data": {
      "text/plain": [
       "[<matplotlib.lines.Line2D at 0x7fe7b546a5d0>]"
      ]
     },
     "execution_count": 24,
     "metadata": {},
     "output_type": "execute_result"
    },
    {
     "data": {
      "image/png": "[encoded data removed]",
      "text/plain": [
       "<Figure size 432x288 with 1 Axes>"
      ]
     },
     "metadata": {
      "needs_background": "light"
     },
     "output_type": "display_data"
    }
   ],
   "source": [
    "FiO2 = rawsignals.loc[np.logical_and(rawsignals['signal_type'] == \"FiO2\", rawsignals['patient_ID'] == 257777778)]\n",
    "FiO2\n",
    "\n",
    "FiO2_sub = FiO2.loc[FiO2['value'] < 98]   #.iloc[1:1000]\n",
    "plt.plot(FiO2_sub['time'], FiO2_sub['value'])\n",
    "#plt.scatter(FiO2_sub['time'], FiO2_sub['value'])"
   ]
  },
  {
   "cell_type": "code",
   "execution_count": null,
   "metadata": {},
   "outputs": [],
   "source": []
  }
 ],
 "metadata": {
  "kernelspec": {
   "display_name": "Python 3",
   "language": "python",
   "name": "python3"
  },
  "language_info": {
   "codemirror_mode": {
    "name": "ipython",
    "version": 3
   },
   "file_extension": ".py",
   "mimetype": "text/x-python",
   "name": "python",
   "nbconvert_exporter": "python",
   "pygments_lexer": "ipython3",
   "version": "3.8.5"
  }
 },
 "nbformat": 4,
 "nbformat_minor": 5
}
