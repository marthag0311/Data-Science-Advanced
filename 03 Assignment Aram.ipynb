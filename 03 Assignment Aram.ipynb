{
 "cells": [
  {
   "cell_type": "markdown",
   "metadata": {},
   "source": [
    "# Machine Learning pre-processing workflow\n",
    "\n",
    "Last week we did some exploratory data analysis (EDA) on the patient data. This is important to already investigate certain patterns in the data (some of which are artefacts, remember FiO2?). EDA is only the beginning, it is necessary to do the next part correct. \n",
    "\n",
    "This next part is called pre-processing, signal-processing, or processing depending on who you ask. The aim is to get to the data matrix which we know from the first lesson. This data matrix can then be used for machine learning.\n",
    "\n",
    "\n",
    "In this lesson you will:\n",
    "\n",
    "- use your EDA knowledge to clean the data\n",
    "- extract meaningfull features from the data\n",
    "- construct the data matrix"
   ]
  },
  {
   "cell_type": "markdown",
   "metadata": {},
   "source": [
    "## The data\n",
    "But first, let's discuss the data in a bit more detail:\n",
    "\n",
    "- the raw signals you know already: HF (Heart Rate), FiO2 (administered oxygen), SpO2 (oxygen saturation), and Taxillair (Temperature).\n",
    "- There are also metadata. Most are self explanatory. Think about which ones you might also want to include in your final data matrix. p.s. gestational_age is the age at birth in weeks (9 months = ca. 40 weeks).\n",
    "- the patients are healyth at the start of the data for at least 2 days\n",
    "- some patients get sick at the end of the data. The last day these patients are definately sick but possibly already longer. \n",
    "- which patiets are of the sick type you can find in the End_of_stay_disease.txt file \n",
    "\n"
   ]
  },
  {
   "cell_type": "markdown",
   "metadata": {},
   "source": [
    "## Procedure example\n",
    "\n",
    "Before we start, let me outline a procedure you can follow which I think is relatively easy. In this way you can build your processing script (and data matrix) part by part. Note, you can also use your own method.\n",
    "\n",
    "1. You start with 1 patient (at the end we will loop over all patients so keep this in mind when writing your script).\n",
    "2. Do 1 signal at a time (so start with the heart rate, or FiO2 or whatever.)\n",
    "3. Clean the signal \n",
    "4. calculate metrics/features on this signal (or other derived signals) and add these to an array or initialized matrix. A trivial example of a feature could be: the average heart rate in the last 24 hours. Try to be somewhat creative here.\n",
    "5. repeat for all signals\n",
    "6. Think whether you want to include some metadata into your feature matrix\n",
    "7. if everything calculates correct, write it into a loop and keep track of the outcome (healthy vs disease)\n",
    "\n",
    "At the end you should have a matrix. How many rows and how many columns will depend on your approach. But try to be clever with the data, can you produce more rows with the data? This will help your machine learning. Also, try to think of different features/metrics that you calculate, the more different they are the more chance you have of getting some crucial patterns\n",
    "\n",
    "p.s. I showed you an example of how to accumulate features (columns) in an empty matrix, see the flower notebook from the first lesson for that.\n"
   ]
  },
  {
   "cell_type": "markdown",
   "metadata": {},
   "source": [
    "## Submission and scoring\n",
    "\n",
    "At the end you should have a matrix, name your columns and describe each column (each feature), e.g. feat_1 = \"average heart rate in the last 24 hours\". This way I can see which ones you built without having to figure it out from your code. Please also clean up your notebook and code you submit to me. Keep the dirty version to yourself. \n",
    "\n",
    "I will grade you on the follwoing things:\n",
    "- your code works (test this out, you can assume I have the files in my working directory)\n",
    "- your notebook is clean and well documented with some text (but no shakespearean novels please)\n",
    "- you cleaned the data correctly\n",
    "- your pre processing ideas and execution\n",
    "- the features you calculate\n",
    "\n",
    "- you can earn a little extra if you show that you can train a model on your matrix (this way I now your feature matrix and outcome vector are ok), and if you then evaluate the performance on the training data. The actual performance is of no importance, so don't worry should it be bad."
   ]
  },
  {
   "cell_type": "markdown",
   "metadata": {},
   "source": [
    "### Import packages"
   ]
  },
  {
   "cell_type": "code",
   "execution_count": 3,
   "metadata": {},
   "outputs": [],
   "source": [
    "import pandas as pd\n",
    "import numpy as np\n",
    "import matplotlib.pyplot as plt\n",
    "import time\n",
    "from datetime import datetime"
   ]
  },
  {
   "cell_type": "markdown",
   "metadata": {},
   "source": [
    "### Read in the data"
   ]
  },
  {
   "cell_type": "code",
   "execution_count": 4,
   "metadata": {},
   "outputs": [],
   "source": [
    "meta = pd.read_csv(\"patient_meta.txt\", sep=\";\")\n",
    "rawsignals = pd.read_csv(\"02 Patient Rawsignals.txt\", sep=\";\")\n",
    "disease = pd.read_csv(\"End_of_stay_disease.txt\", header=None)"
   ]
  },
  {
   "cell_type": "markdown",
   "metadata": {},
   "source": [
    "# Transform meta data"
   ]
  },
  {
   "cell_type": "code",
   "execution_count": 5,
   "metadata": {},
   "outputs": [
    {
     "data": {
      "text/html": [
       "<div>\n",
       "<style scoped>\n",
       "    .dataframe tbody tr th:only-of-type {\n",
       "        vertical-align: middle;\n",
       "    }\n",
       "\n",
       "    .dataframe tbody tr th {\n",
       "        vertical-align: top;\n",
       "    }\n",
       "\n",
       "    .dataframe thead th {\n",
       "        text-align: right;\n",
       "    }\n",
       "</style>\n",
       "<table border=\"1\" class=\"dataframe\">\n",
       "  <thead>\n",
       "    <tr style=\"text-align: right;\">\n",
       "      <th></th>\n",
       "      <th>value</th>\n",
       "      <th>field</th>\n",
       "      <th>patient_ID</th>\n",
       "    </tr>\n",
       "  </thead>\n",
       "  <tbody>\n",
       "    <tr>\n",
       "      <th>0</th>\n",
       "      <td>34.87</td>\n",
       "      <td>gestational_age</td>\n",
       "      <td>257777778</td>\n",
       "    </tr>\n",
       "    <tr>\n",
       "      <th>1</th>\n",
       "      <td>1895</td>\n",
       "      <td>birth_weight</td>\n",
       "      <td>257777778</td>\n",
       "    </tr>\n",
       "    <tr>\n",
       "      <th>2</th>\n",
       "      <td>Bed  1</td>\n",
       "      <td>NICU_ID</td>\n",
       "      <td>257777778</td>\n",
       "    </tr>\n",
       "    <tr>\n",
       "      <th>3</th>\n",
       "      <td>Aa1</td>\n",
       "      <td>firstname</td>\n",
       "      <td>257777778</td>\n",
       "    </tr>\n",
       "    <tr>\n",
       "      <th>4</th>\n",
       "      <td>Bb1</td>\n",
       "      <td>lastname</td>\n",
       "      <td>257777778</td>\n",
       "    </tr>\n",
       "  </tbody>\n",
       "</table>\n",
       "</div>"
      ],
      "text/plain": [
       "    value            field  patient_ID\n",
       "0   34.87  gestational_age   257777778\n",
       "1    1895     birth_weight   257777778\n",
       "2  Bed  1          NICU_ID   257777778\n",
       "3     Aa1        firstname   257777778\n",
       "4     Bb1         lastname   257777778"
      ]
     },
     "execution_count": 5,
     "metadata": {},
     "output_type": "execute_result"
    }
   ],
   "source": [
    "metaNeeded = meta[[\"value\", \"field\", \"patient_ID\"]]\n",
    "metaNeeded.head()"
   ]
  },
  {
   "cell_type": "code",
   "execution_count": 6,
   "metadata": {},
   "outputs": [
    {
     "data": {
      "text/html": [
       "<div>\n",
       "<style scoped>\n",
       "    .dataframe tbody tr th:only-of-type {\n",
       "        vertical-align: middle;\n",
       "    }\n",
       "\n",
       "    .dataframe tbody tr th {\n",
       "        vertical-align: top;\n",
       "    }\n",
       "\n",
       "    .dataframe thead th {\n",
       "        text-align: right;\n",
       "    }\n",
       "</style>\n",
       "<table border=\"1\" class=\"dataframe\">\n",
       "  <thead>\n",
       "    <tr style=\"text-align: right;\">\n",
       "      <th>field</th>\n",
       "      <th>birth_weight</th>\n",
       "      <th>date_of_birth</th>\n",
       "      <th>gestational_age</th>\n",
       "    </tr>\n",
       "    <tr>\n",
       "      <th>patient_ID</th>\n",
       "      <th></th>\n",
       "      <th></th>\n",
       "      <th></th>\n",
       "    </tr>\n",
       "  </thead>\n",
       "  <tbody>\n",
       "    <tr>\n",
       "      <th>257777778</th>\n",
       "      <td>1895</td>\n",
       "      <td>2021-08-30 12:00:00</td>\n",
       "      <td>34.87</td>\n",
       "    </tr>\n",
       "    <tr>\n",
       "      <th>257777779</th>\n",
       "      <td>1030</td>\n",
       "      <td>2021-08-31 08:00:00</td>\n",
       "      <td>27.77</td>\n",
       "    </tr>\n",
       "    <tr>\n",
       "      <th>257777781</th>\n",
       "      <td>0.556</td>\n",
       "      <td>2021-09-07 13:00:00</td>\n",
       "      <td>23.84</td>\n",
       "    </tr>\n",
       "    <tr>\n",
       "      <th>257777783</th>\n",
       "      <td>1615</td>\n",
       "      <td>2021-09-13 10:00:00</td>\n",
       "      <td>32.5</td>\n",
       "    </tr>\n",
       "    <tr>\n",
       "      <th>257777785</th>\n",
       "      <td>1873</td>\n",
       "      <td>2021-09-20 11:00:00</td>\n",
       "      <td>34.66</td>\n",
       "    </tr>\n",
       "  </tbody>\n",
       "</table>\n",
       "</div>"
      ],
      "text/plain": [
       "field      birth_weight        date_of_birth gestational_age\n",
       "patient_ID                                                  \n",
       "257777778          1895  2021-08-30 12:00:00           34.87\n",
       "257777779          1030  2021-08-31 08:00:00           27.77\n",
       "257777781         0.556  2021-09-07 13:00:00           23.84\n",
       "257777783          1615  2021-09-13 10:00:00            32.5\n",
       "257777785          1873  2021-09-20 11:00:00           34.66"
      ]
     },
     "execution_count": 6,
     "metadata": {},
     "output_type": "execute_result"
    }
   ],
   "source": [
    "metaNeeded = metaNeeded.pivot(index=\"patient_ID\", columns = \"field\", values=\"value\")\n",
    "metaNeeded = metaNeeded[[\"birth_weight\", \"date_of_birth\", \"gestational_age\"]]\n",
    "metaNeeded.head()"
   ]
  },
  {
   "cell_type": "markdown",
   "metadata": {},
   "source": [
    "# Transform rawsignals data"
   ]
  },
  {
   "cell_type": "code",
   "execution_count": 7,
   "metadata": {},
   "outputs": [
    {
     "data": {
      "text/html": [
       "<div>\n",
       "<style scoped>\n",
       "    .dataframe tbody tr th:only-of-type {\n",
       "        vertical-align: middle;\n",
       "    }\n",
       "\n",
       "    .dataframe tbody tr th {\n",
       "        vertical-align: top;\n",
       "    }\n",
       "\n",
       "    .dataframe thead th {\n",
       "        text-align: right;\n",
       "    }\n",
       "</style>\n",
       "<table border=\"1\" class=\"dataframe\">\n",
       "  <thead>\n",
       "    <tr style=\"text-align: right;\">\n",
       "      <th></th>\n",
       "      <th>time</th>\n",
       "      <th>value</th>\n",
       "      <th>NICU_ID</th>\n",
       "      <th>field</th>\n",
       "      <th>measurement</th>\n",
       "      <th>hospital_ID</th>\n",
       "      <th>patient_ID</th>\n",
       "      <th>signal_type</th>\n",
       "    </tr>\n",
       "  </thead>\n",
       "  <tbody>\n",
       "    <tr>\n",
       "      <th>0</th>\n",
       "      <td>1.630454e+09</td>\n",
       "      <td>171</td>\n",
       "      <td>Bed  1</td>\n",
       "      <td>signal_value</td>\n",
       "      <td>rawsignal</td>\n",
       "      <td>UZA</td>\n",
       "      <td>257777778</td>\n",
       "      <td>HF</td>\n",
       "    </tr>\n",
       "    <tr>\n",
       "      <th>1</th>\n",
       "      <td>1.630454e+09</td>\n",
       "      <td>170</td>\n",
       "      <td>Bed  1</td>\n",
       "      <td>signal_value</td>\n",
       "      <td>rawsignal</td>\n",
       "      <td>UZA</td>\n",
       "      <td>257777778</td>\n",
       "      <td>HF</td>\n",
       "    </tr>\n",
       "    <tr>\n",
       "      <th>2</th>\n",
       "      <td>1.630454e+09</td>\n",
       "      <td>170</td>\n",
       "      <td>Bed  1</td>\n",
       "      <td>signal_value</td>\n",
       "      <td>rawsignal</td>\n",
       "      <td>UZA</td>\n",
       "      <td>257777778</td>\n",
       "      <td>HF</td>\n",
       "    </tr>\n",
       "    <tr>\n",
       "      <th>3</th>\n",
       "      <td>1.630454e+09</td>\n",
       "      <td>170</td>\n",
       "      <td>Bed  1</td>\n",
       "      <td>signal_value</td>\n",
       "      <td>rawsignal</td>\n",
       "      <td>UZA</td>\n",
       "      <td>257777778</td>\n",
       "      <td>HF</td>\n",
       "    </tr>\n",
       "    <tr>\n",
       "      <th>4</th>\n",
       "      <td>1.630455e+09</td>\n",
       "      <td>169</td>\n",
       "      <td>Bed  1</td>\n",
       "      <td>signal_value</td>\n",
       "      <td>rawsignal</td>\n",
       "      <td>UZA</td>\n",
       "      <td>257777778</td>\n",
       "      <td>HF</td>\n",
       "    </tr>\n",
       "  </tbody>\n",
       "</table>\n",
       "</div>"
      ],
      "text/plain": [
       "           time  value NICU_ID         field measurement hospital_ID  \\\n",
       "0  1.630454e+09    171  Bed  1  signal_value   rawsignal         UZA   \n",
       "1  1.630454e+09    170  Bed  1  signal_value   rawsignal         UZA   \n",
       "2  1.630454e+09    170  Bed  1  signal_value   rawsignal         UZA   \n",
       "3  1.630454e+09    170  Bed  1  signal_value   rawsignal         UZA   \n",
       "4  1.630455e+09    169  Bed  1  signal_value   rawsignal         UZA   \n",
       "\n",
       "   patient_ID signal_type  \n",
       "0   257777778          HF  \n",
       "1   257777778          HF  \n",
       "2   257777778          HF  \n",
       "3   257777778          HF  \n",
       "4   257777778          HF  "
      ]
     },
     "execution_count": 7,
     "metadata": {},
     "output_type": "execute_result"
    }
   ],
   "source": [
    "rawsignals.head()"
   ]
  },
  {
   "cell_type": "code",
   "execution_count": 8,
   "metadata": {},
   "outputs": [
    {
     "data": {
      "text/html": [
       "<div>\n",
       "<style scoped>\n",
       "    .dataframe tbody tr th:only-of-type {\n",
       "        vertical-align: middle;\n",
       "    }\n",
       "\n",
       "    .dataframe tbody tr th {\n",
       "        vertical-align: top;\n",
       "    }\n",
       "\n",
       "    .dataframe thead th {\n",
       "        text-align: right;\n",
       "    }\n",
       "</style>\n",
       "<table border=\"1\" class=\"dataframe\">\n",
       "  <thead>\n",
       "    <tr style=\"text-align: right;\">\n",
       "      <th></th>\n",
       "      <th>time</th>\n",
       "      <th>value</th>\n",
       "      <th>patient_ID</th>\n",
       "      <th>signal_type</th>\n",
       "    </tr>\n",
       "  </thead>\n",
       "  <tbody>\n",
       "    <tr>\n",
       "      <th>0</th>\n",
       "      <td>1.630454e+09</td>\n",
       "      <td>171</td>\n",
       "      <td>257777778</td>\n",
       "      <td>HF</td>\n",
       "    </tr>\n",
       "    <tr>\n",
       "      <th>1</th>\n",
       "      <td>1.630454e+09</td>\n",
       "      <td>170</td>\n",
       "      <td>257777778</td>\n",
       "      <td>HF</td>\n",
       "    </tr>\n",
       "    <tr>\n",
       "      <th>2</th>\n",
       "      <td>1.630454e+09</td>\n",
       "      <td>170</td>\n",
       "      <td>257777778</td>\n",
       "      <td>HF</td>\n",
       "    </tr>\n",
       "    <tr>\n",
       "      <th>3</th>\n",
       "      <td>1.630454e+09</td>\n",
       "      <td>170</td>\n",
       "      <td>257777778</td>\n",
       "      <td>HF</td>\n",
       "    </tr>\n",
       "    <tr>\n",
       "      <th>4</th>\n",
       "      <td>1.630455e+09</td>\n",
       "      <td>169</td>\n",
       "      <td>257777778</td>\n",
       "      <td>HF</td>\n",
       "    </tr>\n",
       "  </tbody>\n",
       "</table>\n",
       "</div>"
      ],
      "text/plain": [
       "           time  value  patient_ID signal_type\n",
       "0  1.630454e+09    171   257777778          HF\n",
       "1  1.630454e+09    170   257777778          HF\n",
       "2  1.630454e+09    170   257777778          HF\n",
       "3  1.630454e+09    170   257777778          HF\n",
       "4  1.630455e+09    169   257777778          HF"
      ]
     },
     "execution_count": 8,
     "metadata": {},
     "output_type": "execute_result"
    }
   ],
   "source": [
    "rawsignals = rawsignals[[\"time\", \"value\", \"patient_ID\", \"signal_type\"]]\n",
    "rawsignals.head()"
   ]
  },
  {
   "cell_type": "markdown",
   "metadata": {},
   "source": [
    "# Transform disease data"
   ]
  },
  {
   "cell_type": "code",
   "execution_count": 9,
   "metadata": {
    "scrolled": false
   },
   "outputs": [
    {
     "data": {
      "text/html": [
       "<div>\n",
       "<style scoped>\n",
       "    .dataframe tbody tr th:only-of-type {\n",
       "        vertical-align: middle;\n",
       "    }\n",
       "\n",
       "    .dataframe tbody tr th {\n",
       "        vertical-align: top;\n",
       "    }\n",
       "\n",
       "    .dataframe thead th {\n",
       "        text-align: right;\n",
       "    }\n",
       "</style>\n",
       "<table border=\"1\" class=\"dataframe\">\n",
       "  <thead>\n",
       "    <tr style=\"text-align: right;\">\n",
       "      <th></th>\n",
       "      <th>0</th>\n",
       "    </tr>\n",
       "  </thead>\n",
       "  <tbody>\n",
       "    <tr>\n",
       "      <th>0</th>\n",
       "      <td>257777781</td>\n",
       "    </tr>\n",
       "    <tr>\n",
       "      <th>1</th>\n",
       "      <td>257777788</td>\n",
       "    </tr>\n",
       "    <tr>\n",
       "      <th>2</th>\n",
       "      <td>257777790</td>\n",
       "    </tr>\n",
       "    <tr>\n",
       "      <th>3</th>\n",
       "      <td>257777793</td>\n",
       "    </tr>\n",
       "    <tr>\n",
       "      <th>4</th>\n",
       "      <td>257777795</td>\n",
       "    </tr>\n",
       "  </tbody>\n",
       "</table>\n",
       "</div>"
      ],
      "text/plain": [
       "           0\n",
       "0  257777781\n",
       "1  257777788\n",
       "2  257777790\n",
       "3  257777793\n",
       "4  257777795"
      ]
     },
     "execution_count": 9,
     "metadata": {},
     "output_type": "execute_result"
    }
   ],
   "source": [
    "disease.head()"
   ]
  },
  {
   "cell_type": "markdown",
   "metadata": {},
   "source": [
    "#### Add a true indicator if patient was sick at the end of stay"
   ]
  },
  {
   "cell_type": "code",
   "execution_count": 10,
   "metadata": {},
   "outputs": [],
   "source": [
    "sickPeople = []\n",
    "for x in disease.index:\n",
    "    sick = disease.loc[disease.index == x]\n",
    "    sickPeople.append(sick.values.item())"
   ]
  },
  {
   "cell_type": "code",
   "execution_count": 11,
   "metadata": {},
   "outputs": [
    {
     "data": {
      "text/plain": [
       "[257777781,\n",
       " 257777788,\n",
       " 257777790,\n",
       " 257777793,\n",
       " 257777795,\n",
       " 257777796,\n",
       " 257777798,\n",
       " 257777803,\n",
       " 257777804,\n",
       " 257777805]"
      ]
     },
     "execution_count": 11,
     "metadata": {},
     "output_type": "execute_result"
    }
   ],
   "source": [
    "sickPeople"
   ]
  },
  {
   "cell_type": "code",
   "execution_count": 12,
   "metadata": {},
   "outputs": [],
   "source": [
    "metaNeeded[\"sick\"] = \"false\""
   ]
  },
  {
   "cell_type": "code",
   "execution_count": 13,
   "metadata": {},
   "outputs": [],
   "source": [
    "i = 0\n",
    "while(i < len(sickPeople)):\n",
    "    metaNeeded.loc[metaNeeded.index == sickPeople[i], \"sick\"] = \"true\"\n",
    "    i+=1"
   ]
  },
  {
   "cell_type": "code",
   "execution_count": 14,
   "metadata": {
    "scrolled": false
   },
   "outputs": [
    {
     "data": {
      "text/html": [
       "<div>\n",
       "<style scoped>\n",
       "    .dataframe tbody tr th:only-of-type {\n",
       "        vertical-align: middle;\n",
       "    }\n",
       "\n",
       "    .dataframe tbody tr th {\n",
       "        vertical-align: top;\n",
       "    }\n",
       "\n",
       "    .dataframe thead th {\n",
       "        text-align: right;\n",
       "    }\n",
       "</style>\n",
       "<table border=\"1\" class=\"dataframe\">\n",
       "  <thead>\n",
       "    <tr style=\"text-align: right;\">\n",
       "      <th>field</th>\n",
       "      <th>birth_weight</th>\n",
       "      <th>date_of_birth</th>\n",
       "      <th>gestational_age</th>\n",
       "      <th>sick</th>\n",
       "    </tr>\n",
       "    <tr>\n",
       "      <th>patient_ID</th>\n",
       "      <th></th>\n",
       "      <th></th>\n",
       "      <th></th>\n",
       "      <th></th>\n",
       "    </tr>\n",
       "  </thead>\n",
       "  <tbody>\n",
       "    <tr>\n",
       "      <th>257777778</th>\n",
       "      <td>1895</td>\n",
       "      <td>2021-08-30 12:00:00</td>\n",
       "      <td>34.87</td>\n",
       "      <td>false</td>\n",
       "    </tr>\n",
       "    <tr>\n",
       "      <th>257777779</th>\n",
       "      <td>1030</td>\n",
       "      <td>2021-08-31 08:00:00</td>\n",
       "      <td>27.77</td>\n",
       "      <td>false</td>\n",
       "    </tr>\n",
       "    <tr>\n",
       "      <th>257777781</th>\n",
       "      <td>0.556</td>\n",
       "      <td>2021-09-07 13:00:00</td>\n",
       "      <td>23.84</td>\n",
       "      <td>true</td>\n",
       "    </tr>\n",
       "    <tr>\n",
       "      <th>257777783</th>\n",
       "      <td>1615</td>\n",
       "      <td>2021-09-13 10:00:00</td>\n",
       "      <td>32.5</td>\n",
       "      <td>false</td>\n",
       "    </tr>\n",
       "    <tr>\n",
       "      <th>257777785</th>\n",
       "      <td>1873</td>\n",
       "      <td>2021-09-20 11:00:00</td>\n",
       "      <td>34.66</td>\n",
       "      <td>false</td>\n",
       "    </tr>\n",
       "  </tbody>\n",
       "</table>\n",
       "</div>"
      ],
      "text/plain": [
       "field      birth_weight        date_of_birth gestational_age   sick\n",
       "patient_ID                                                         \n",
       "257777778          1895  2021-08-30 12:00:00           34.87  false\n",
       "257777779          1030  2021-08-31 08:00:00           27.77  false\n",
       "257777781         0.556  2021-09-07 13:00:00           23.84   true\n",
       "257777783          1615  2021-09-13 10:00:00            32.5  false\n",
       "257777785          1873  2021-09-20 11:00:00           34.66  false"
      ]
     },
     "execution_count": 14,
     "metadata": {},
     "output_type": "execute_result"
    }
   ],
   "source": [
    "metaNeeded.head()"
   ]
  },
  {
   "cell_type": "markdown",
   "metadata": {},
   "source": [
    "# Look for missing values"
   ]
  },
  {
   "cell_type": "code",
   "execution_count": 15,
   "metadata": {},
   "outputs": [
    {
     "data": {
      "text/plain": [
       "field\n",
       "birth_weight       0\n",
       "date_of_birth      0\n",
       "gestational_age    0\n",
       "sick               0\n",
       "dtype: int64"
      ]
     },
     "execution_count": 15,
     "metadata": {},
     "output_type": "execute_result"
    }
   ],
   "source": [
    "metaNeeded.isnull().sum()"
   ]
  },
  {
   "cell_type": "code",
   "execution_count": 16,
   "metadata": {},
   "outputs": [
    {
     "data": {
      "text/plain": [
       "time           0\n",
       "value          0\n",
       "patient_ID     0\n",
       "signal_type    0\n",
       "dtype: int64"
      ]
     },
     "execution_count": 16,
     "metadata": {},
     "output_type": "execute_result"
    }
   ],
   "source": [
    "rawsignals.isnull().sum()"
   ]
  },
  {
   "cell_type": "markdown",
   "metadata": {},
   "source": [
    "# Features patient 1"
   ]
  },
  {
   "cell_type": "code",
   "execution_count": 57,
   "metadata": {},
   "outputs": [],
   "source": [
    "test_patient = np.unique(metaNeeded.index)[0]\n",
    "patient_signals = rawsignals.loc[rawsignals['patient_ID'] == test_patient]"
   ]
  },
  {
   "cell_type": "code",
   "execution_count": 58,
   "metadata": {},
   "outputs": [
    {
     "data": {
      "text/html": [
       "<div>\n",
       "<style scoped>\n",
       "    .dataframe tbody tr th:only-of-type {\n",
       "        vertical-align: middle;\n",
       "    }\n",
       "\n",
       "    .dataframe tbody tr th {\n",
       "        vertical-align: top;\n",
       "    }\n",
       "\n",
       "    .dataframe thead th {\n",
       "        text-align: right;\n",
       "    }\n",
       "</style>\n",
       "<table border=\"1\" class=\"dataframe\">\n",
       "  <thead>\n",
       "    <tr style=\"text-align: right;\">\n",
       "      <th></th>\n",
       "      <th>time</th>\n",
       "      <th>value</th>\n",
       "      <th>patient_ID</th>\n",
       "      <th>signal_type</th>\n",
       "    </tr>\n",
       "  </thead>\n",
       "  <tbody>\n",
       "    <tr>\n",
       "      <th>86454</th>\n",
       "      <td>1.631246e+09</td>\n",
       "      <td>103</td>\n",
       "      <td>257777778</td>\n",
       "      <td>Taxillair</td>\n",
       "    </tr>\n",
       "    <tr>\n",
       "      <th>86455</th>\n",
       "      <td>1.631261e+09</td>\n",
       "      <td>97</td>\n",
       "      <td>257777778</td>\n",
       "      <td>Taxillair</td>\n",
       "    </tr>\n",
       "    <tr>\n",
       "      <th>86456</th>\n",
       "      <td>1.631275e+09</td>\n",
       "      <td>101</td>\n",
       "      <td>257777778</td>\n",
       "      <td>Taxillair</td>\n",
       "    </tr>\n",
       "    <tr>\n",
       "      <th>86457</th>\n",
       "      <td>1.631290e+09</td>\n",
       "      <td>97</td>\n",
       "      <td>257777778</td>\n",
       "      <td>Taxillair</td>\n",
       "    </tr>\n",
       "    <tr>\n",
       "      <th>86458</th>\n",
       "      <td>1.631304e+09</td>\n",
       "      <td>100</td>\n",
       "      <td>257777778</td>\n",
       "      <td>Taxillair</td>\n",
       "    </tr>\n",
       "  </tbody>\n",
       "</table>\n",
       "</div>"
      ],
      "text/plain": [
       "               time  value  patient_ID signal_type\n",
       "86454  1.631246e+09    103   257777778   Taxillair\n",
       "86455  1.631261e+09     97   257777778   Taxillair\n",
       "86456  1.631275e+09    101   257777778   Taxillair\n",
       "86457  1.631290e+09     97   257777778   Taxillair\n",
       "86458  1.631304e+09    100   257777778   Taxillair"
      ]
     },
     "execution_count": 58,
     "metadata": {},
     "output_type": "execute_result"
    }
   ],
   "source": [
    "patient_signals.tail()"
   ]
  },
  {
   "cell_type": "markdown",
   "metadata": {},
   "source": [
    "## Heart Frequency"
   ]
  },
  {
   "cell_type": "code",
   "execution_count": 59,
   "metadata": {},
   "outputs": [],
   "source": [
    "test_signals = patient_signals.loc[patient_signals['signal_type'] == \"HF\"]"
   ]
  },
  {
   "cell_type": "code",
   "execution_count": 60,
   "metadata": {},
   "outputs": [
    {
     "data": {
      "text/html": [
       "<div>\n",
       "<style scoped>\n",
       "    .dataframe tbody tr th:only-of-type {\n",
       "        vertical-align: middle;\n",
       "    }\n",
       "\n",
       "    .dataframe tbody tr th {\n",
       "        vertical-align: top;\n",
       "    }\n",
       "\n",
       "    .dataframe thead th {\n",
       "        text-align: right;\n",
       "    }\n",
       "</style>\n",
       "<table border=\"1\" class=\"dataframe\">\n",
       "  <thead>\n",
       "    <tr style=\"text-align: right;\">\n",
       "      <th></th>\n",
       "      <th>time</th>\n",
       "      <th>value</th>\n",
       "      <th>patient_ID</th>\n",
       "      <th>signal_type</th>\n",
       "    </tr>\n",
       "  </thead>\n",
       "  <tbody>\n",
       "    <tr>\n",
       "      <th>28795</th>\n",
       "      <td>1.631318e+09</td>\n",
       "      <td>184</td>\n",
       "      <td>257777778</td>\n",
       "      <td>HF</td>\n",
       "    </tr>\n",
       "    <tr>\n",
       "      <th>28796</th>\n",
       "      <td>1.631318e+09</td>\n",
       "      <td>184</td>\n",
       "      <td>257777778</td>\n",
       "      <td>HF</td>\n",
       "    </tr>\n",
       "    <tr>\n",
       "      <th>28797</th>\n",
       "      <td>1.631318e+09</td>\n",
       "      <td>184</td>\n",
       "      <td>257777778</td>\n",
       "      <td>HF</td>\n",
       "    </tr>\n",
       "    <tr>\n",
       "      <th>28798</th>\n",
       "      <td>1.631318e+09</td>\n",
       "      <td>184</td>\n",
       "      <td>257777778</td>\n",
       "      <td>HF</td>\n",
       "    </tr>\n",
       "    <tr>\n",
       "      <th>28799</th>\n",
       "      <td>1.631318e+09</td>\n",
       "      <td>184</td>\n",
       "      <td>257777778</td>\n",
       "      <td>HF</td>\n",
       "    </tr>\n",
       "  </tbody>\n",
       "</table>\n",
       "</div>"
      ],
      "text/plain": [
       "               time  value  patient_ID signal_type\n",
       "28795  1.631318e+09    184   257777778          HF\n",
       "28796  1.631318e+09    184   257777778          HF\n",
       "28797  1.631318e+09    184   257777778          HF\n",
       "28798  1.631318e+09    184   257777778          HF\n",
       "28799  1.631318e+09    184   257777778          HF"
      ]
     },
     "execution_count": 60,
     "metadata": {},
     "output_type": "execute_result"
    }
   ],
   "source": [
    "test_signals.tail()"
   ]
  },
  {
   "cell_type": "markdown",
   "metadata": {},
   "source": [
    "### Find the mean, median, lowest and highest heart rate"
   ]
  },
  {
   "cell_type": "code",
   "execution_count": 61,
   "metadata": {},
   "outputs": [],
   "source": [
    "meanHF = np.mean(test_signals['value'])\n",
    "highHF = np.max(test_signals['value'])\n",
    "lowHF = np.min(test_signals['value'])\n",
    "HF_values = [meanHF, highHF,lowHF]"
   ]
  },
  {
   "cell_type": "code",
   "execution_count": 62,
   "metadata": {},
   "outputs": [
    {
     "name": "stdout",
     "output_type": "stream",
     "text": [
      "Average heart frequency measured: 176.57\n",
      "Highest heart frequency measured: 206\n",
      "Lowest heart frequency measured: 79\n"
     ]
    }
   ],
   "source": [
    "print(\"Average heart frequency measured:\", round(meanHF, 2))\n",
    "print(\"Highest heart frequency measured:\", highHF)\n",
    "print(\"Lowest heart frequency measured:\", lowHF)"
   ]
  },
  {
   "cell_type": "markdown",
   "metadata": {},
   "source": [
    "### Plot of first day"
   ]
  },
  {
   "cell_type": "code",
   "execution_count": 40,
   "metadata": {},
   "outputs": [
    {
     "data": {
      "text/plain": [
       "1630455850.0"
      ]
     },
     "execution_count": 40,
     "metadata": {},
     "output_type": "execute_result"
    }
   ],
   "source": [
    "patient_first_day = np.min(test_signals['time']) + 24 * 60\n",
    "patient_first_day "
   ]
  },
  {
   "cell_type": "code",
   "execution_count": 41,
   "metadata": {
    "scrolled": true
   },
   "outputs": [
    {
     "data": {
      "text/html": [
       "<div>\n",
       "<style scoped>\n",
       "    .dataframe tbody tr th:only-of-type {\n",
       "        vertical-align: middle;\n",
       "    }\n",
       "\n",
       "    .dataframe tbody tr th {\n",
       "        vertical-align: top;\n",
       "    }\n",
       "\n",
       "    .dataframe thead th {\n",
       "        text-align: right;\n",
       "    }\n",
       "</style>\n",
       "<table border=\"1\" class=\"dataframe\">\n",
       "  <thead>\n",
       "    <tr style=\"text-align: right;\">\n",
       "      <th></th>\n",
       "      <th>time</th>\n",
       "      <th>value</th>\n",
       "      <th>patient_ID</th>\n",
       "      <th>signal_type</th>\n",
       "    </tr>\n",
       "  </thead>\n",
       "  <tbody>\n",
       "    <tr>\n",
       "      <th>48</th>\n",
       "      <td>1.630456e+09</td>\n",
       "      <td>175</td>\n",
       "      <td>257777778</td>\n",
       "      <td>HF</td>\n",
       "    </tr>\n",
       "  </tbody>\n",
       "</table>\n",
       "</div>"
      ],
      "text/plain": [
       "            time  value  patient_ID signal_type\n",
       "48  1.630456e+09    175   257777778          HF"
      ]
     },
     "execution_count": 41,
     "metadata": {},
     "output_type": "execute_result"
    }
   ],
   "source": [
    "test_signals.loc[test_signals['time'] == 1630455850.0]"
   ]
  },
  {
   "cell_type": "code",
   "execution_count": 42,
   "metadata": {},
   "outputs": [
    {
     "data": {
      "text/plain": [
       "<matplotlib.collections.PathCollection at 0x1931f0a8490>"
      ]
     },
     "execution_count": 42,
     "metadata": {},
     "output_type": "execute_result"
    },
    {
     "data": {
      "image/png": "[encoded data removed]",
      "text/plain": [
       "<Figure size 432x288 with 1 Axes>"
      ]
     },
     "metadata": {
      "needs_background": "light"
     },
     "output_type": "display_data"
    }
   ],
   "source": [
    "test_plot = test_signals.iloc[1:48]\n",
    "plt.plot(test_plot['time'], test_plot['value'])\n",
    "plt.scatter(test_plot['time'], test_plot['value'])"
   ]
  },
  {
   "cell_type": "markdown",
   "metadata": {},
   "source": [
    "### Plot of last day"
   ]
  },
  {
   "cell_type": "code",
   "execution_count": 43,
   "metadata": {},
   "outputs": [
    {
     "name": "stdout",
     "output_type": "stream",
     "text": [
      "1631318380.0 1631316940.0\n"
     ]
    }
   ],
   "source": [
    "patient_last_day = np.max(test_signals['time'])\n",
    "patient_last_start = patient_last_day - 24 * 60 \n",
    "print(patient_last_day, patient_last_start)"
   ]
  },
  {
   "cell_type": "code",
   "execution_count": 44,
   "metadata": {},
   "outputs": [
    {
     "data": {
      "text/html": [
       "<div>\n",
       "<style scoped>\n",
       "    .dataframe tbody tr th:only-of-type {\n",
       "        vertical-align: middle;\n",
       "    }\n",
       "\n",
       "    .dataframe tbody tr th {\n",
       "        vertical-align: top;\n",
       "    }\n",
       "\n",
       "    .dataframe thead th {\n",
       "        text-align: right;\n",
       "    }\n",
       "</style>\n",
       "<table border=\"1\" class=\"dataframe\">\n",
       "  <thead>\n",
       "    <tr style=\"text-align: right;\">\n",
       "      <th></th>\n",
       "      <th>time</th>\n",
       "      <th>value</th>\n",
       "      <th>patient_ID</th>\n",
       "      <th>signal_type</th>\n",
       "    </tr>\n",
       "  </thead>\n",
       "  <tbody>\n",
       "    <tr>\n",
       "      <th>28751</th>\n",
       "      <td>1.631317e+09</td>\n",
       "      <td>188</td>\n",
       "      <td>257777778</td>\n",
       "      <td>HF</td>\n",
       "    </tr>\n",
       "  </tbody>\n",
       "</table>\n",
       "</div>"
      ],
      "text/plain": [
       "               time  value  patient_ID signal_type\n",
       "28751  1.631317e+09    188   257777778          HF"
      ]
     },
     "execution_count": 44,
     "metadata": {},
     "output_type": "execute_result"
    }
   ],
   "source": [
    "test_signals.loc[test_signals['time'] == 1631316940.0]"
   ]
  },
  {
   "cell_type": "code",
   "execution_count": 45,
   "metadata": {},
   "outputs": [
    {
     "data": {
      "text/html": [
       "<div>\n",
       "<style scoped>\n",
       "    .dataframe tbody tr th:only-of-type {\n",
       "        vertical-align: middle;\n",
       "    }\n",
       "\n",
       "    .dataframe tbody tr th {\n",
       "        vertical-align: top;\n",
       "    }\n",
       "\n",
       "    .dataframe thead th {\n",
       "        text-align: right;\n",
       "    }\n",
       "</style>\n",
       "<table border=\"1\" class=\"dataframe\">\n",
       "  <thead>\n",
       "    <tr style=\"text-align: right;\">\n",
       "      <th></th>\n",
       "      <th>time</th>\n",
       "      <th>value</th>\n",
       "      <th>patient_ID</th>\n",
       "      <th>signal_type</th>\n",
       "    </tr>\n",
       "  </thead>\n",
       "  <tbody>\n",
       "    <tr>\n",
       "      <th>28799</th>\n",
       "      <td>1.631318e+09</td>\n",
       "      <td>184</td>\n",
       "      <td>257777778</td>\n",
       "      <td>HF</td>\n",
       "    </tr>\n",
       "  </tbody>\n",
       "</table>\n",
       "</div>"
      ],
      "text/plain": [
       "               time  value  patient_ID signal_type\n",
       "28799  1.631318e+09    184   257777778          HF"
      ]
     },
     "execution_count": 45,
     "metadata": {},
     "output_type": "execute_result"
    }
   ],
   "source": [
    "test_signals.loc[test_signals['time'] == 1631318380.0]"
   ]
  },
  {
   "cell_type": "code",
   "execution_count": 46,
   "metadata": {},
   "outputs": [
    {
     "data": {
      "text/plain": [
       "<matplotlib.collections.PathCollection at 0x19329d28730>"
      ]
     },
     "execution_count": 46,
     "metadata": {},
     "output_type": "execute_result"
    },
    {
     "data": {
      "image/png": "[encoded data removed]",
      "text/plain": [
       "<Figure size 432x288 with 1 Axes>"
      ]
     },
     "metadata": {
      "needs_background": "light"
     },
     "output_type": "display_data"
    }
   ],
   "source": [
    "test_plot_last = rawsignals.iloc[28751:28799]\n",
    "plt.plot(test_plot_last['time'], test_plot_last['value'])\n",
    "plt.scatter(test_plot_last['time'], test_plot_last['value'])"
   ]
  },
  {
   "cell_type": "markdown",
   "metadata": {},
   "source": [
    "## Number of days in the hospital"
   ]
  },
  {
   "cell_type": "code",
   "execution_count": 47,
   "metadata": {},
   "outputs": [],
   "source": [
    "inHospital = time.strftime('%Y-%m-%d %H:%M:%S', time.localtime(np.min(test_signals['time'])))\n",
    "outHospital = time.strftime('%Y-%m-%d %H:%M:%S', time.localtime(np.max(test_signals['time'])))"
   ]
  },
  {
   "cell_type": "code",
   "execution_count": 48,
   "metadata": {},
   "outputs": [],
   "source": [
    "startdate = datetime.strptime(inHospital, '%Y-%m-%d %H:%M:%S')\n",
    "enddate = datetime.strptime(outHospital, '%Y-%m-%d %H:%M:%S')\n",
    "roundDateStart = startdate.replace(hour=0, minute=0, second=0, microsecond=0)\n",
    "roundDateEnd = enddate.replace(hour=0, minute=0, second=0, microsecond=0)"
   ]
  },
  {
   "cell_type": "code",
   "execution_count": 49,
   "metadata": {},
   "outputs": [],
   "source": [
    "daysInHospital = (roundDateEnd - roundDateStart).days"
   ]
  },
  {
   "cell_type": "code",
   "execution_count": 50,
   "metadata": {},
   "outputs": [
    {
     "name": "stdout",
     "output_type": "stream",
     "text": [
      "2021-09-01 00:00:00\n",
      "2021-09-11 01:59:40\n",
      "10\n"
     ]
    }
   ],
   "source": [
    "print(roundDateStart)\n",
    "print(enddate)\n",
    "print(daysInHospital)"
   ]
  },
  {
   "cell_type": "markdown",
   "metadata": {},
   "source": [
    "## FiO2"
   ]
  },
  {
   "cell_type": "code",
   "execution_count": 340,
   "metadata": {},
   "outputs": [],
   "source": [
    "FIO_signals = patient_signals.loc[patient_signals['signal_type'] == \"FiO2\"]"
   ]
  },
  {
   "cell_type": "code",
   "execution_count": 341,
   "metadata": {
    "scrolled": true
   },
   "outputs": [
    {
     "data": {
      "text/html": [
       "<div>\n",
       "<style scoped>\n",
       "    .dataframe tbody tr th:only-of-type {\n",
       "        vertical-align: middle;\n",
       "    }\n",
       "\n",
       "    .dataframe tbody tr th {\n",
       "        vertical-align: top;\n",
       "    }\n",
       "\n",
       "    .dataframe thead th {\n",
       "        text-align: right;\n",
       "    }\n",
       "</style>\n",
       "<table border=\"1\" class=\"dataframe\">\n",
       "  <thead>\n",
       "    <tr style=\"text-align: right;\">\n",
       "      <th></th>\n",
       "      <th>time</th>\n",
       "      <th>value</th>\n",
       "      <th>patient_ID</th>\n",
       "      <th>signal_type</th>\n",
       "    </tr>\n",
       "  </thead>\n",
       "  <tbody>\n",
       "    <tr>\n",
       "      <th>57600</th>\n",
       "      <td>1.630454e+09</td>\n",
       "      <td>21</td>\n",
       "      <td>257777778</td>\n",
       "      <td>FiO2</td>\n",
       "    </tr>\n",
       "    <tr>\n",
       "      <th>57601</th>\n",
       "      <td>1.630454e+09</td>\n",
       "      <td>21</td>\n",
       "      <td>257777778</td>\n",
       "      <td>FiO2</td>\n",
       "    </tr>\n",
       "    <tr>\n",
       "      <th>57602</th>\n",
       "      <td>1.630455e+09</td>\n",
       "      <td>21</td>\n",
       "      <td>257777778</td>\n",
       "      <td>FiO2</td>\n",
       "    </tr>\n",
       "    <tr>\n",
       "      <th>57603</th>\n",
       "      <td>1.630455e+09</td>\n",
       "      <td>21</td>\n",
       "      <td>257777778</td>\n",
       "      <td>FiO2</td>\n",
       "    </tr>\n",
       "    <tr>\n",
       "      <th>57604</th>\n",
       "      <td>1.630455e+09</td>\n",
       "      <td>21</td>\n",
       "      <td>257777778</td>\n",
       "      <td>FiO2</td>\n",
       "    </tr>\n",
       "  </tbody>\n",
       "</table>\n",
       "</div>"
      ],
      "text/plain": [
       "               time  value  patient_ID signal_type\n",
       "57600  1.630454e+09     21   257777778        FiO2\n",
       "57601  1.630454e+09     21   257777778        FiO2\n",
       "57602  1.630455e+09     21   257777778        FiO2\n",
       "57603  1.630455e+09     21   257777778        FiO2\n",
       "57604  1.630455e+09     21   257777778        FiO2"
      ]
     },
     "execution_count": 341,
     "metadata": {},
     "output_type": "execute_result"
    }
   ],
   "source": [
    "FIO_signals.head()"
   ]
  },
  {
   "cell_type": "markdown",
   "metadata": {},
   "source": [
    "### Find the mean, median, lowest and highest FiO2"
   ]
  },
  {
   "cell_type": "code",
   "execution_count": 342,
   "metadata": {},
   "outputs": [],
   "source": [
    "meanFIO = np.mean(FIO_signals['value'])\n",
    "highFIO = np.max(FIO_signals['value'])\n",
    "lowFIO = np.min(FIO_signals['value'])"
   ]
  },
  {
   "cell_type": "code",
   "execution_count": 343,
   "metadata": {},
   "outputs": [
    {
     "name": "stdout",
     "output_type": "stream",
     "text": [
      "Average FiO2 measured: 30.42\n",
      "Highest FiO2 measured: 100\n",
      "Lowest FiO2 measured: 21\n"
     ]
    }
   ],
   "source": [
    "print(\"Average FiO2 measured:\", round(meanFIO, 2))\n",
    "print(\"Highest FiO2 measured:\", highFIO)\n",
    "print(\"Lowest FiO2 measured:\", lowFIO)"
   ]
  },
  {
   "cell_type": "code",
   "execution_count": 344,
   "metadata": {},
   "outputs": [
    {
     "data": {
      "text/plain": [
       "51"
      ]
     },
     "execution_count": 344,
     "metadata": {},
     "output_type": "execute_result"
    }
   ],
   "source": [
    "highest_value = FIO_signals.loc[FIO_signals[\"value\"] == 100]\n",
    "highest_value[\"patient_ID\"].count()"
   ]
  },
  {
   "cell_type": "code",
   "execution_count": 345,
   "metadata": {},
   "outputs": [
    {
     "data": {
      "text/plain": [
       "[<matplotlib.lines.Line2D at 0x7fb89b4b3580>]"
      ]
     },
     "execution_count": 345,
     "metadata": {},
     "output_type": "execute_result"
    },
    {
     "data": {
      "image/png": "[encoded data removed]",
      "text/plain": [
       "<Figure size 432x288 with 1 Axes>"
      ]
     },
     "metadata": {
      "needs_background": "light"
     },
     "output_type": "display_data"
    }
   ],
   "source": [
    "# FiO2_sub = FIO_signals.loc[FIO_signals['value'] < 98]  \n",
    "# plt.plot(FiO2_sub['time'], FiO2_sub['value'])\n",
    "FiO2_sub = FIO_signals.iloc[1:1000]  \n",
    "plt.plot(FiO2_sub['time'], FiO2_sub['value'])"
   ]
  },
  {
   "cell_type": "markdown",
   "metadata": {},
   "source": [
    "## SpO2"
   ]
  },
  {
   "cell_type": "code",
   "execution_count": 346,
   "metadata": {},
   "outputs": [
    {
     "data": {
      "text/html": [
       "<div>\n",
       "<style scoped>\n",
       "    .dataframe tbody tr th:only-of-type {\n",
       "        vertical-align: middle;\n",
       "    }\n",
       "\n",
       "    .dataframe tbody tr th {\n",
       "        vertical-align: top;\n",
       "    }\n",
       "\n",
       "    .dataframe thead th {\n",
       "        text-align: right;\n",
       "    }\n",
       "</style>\n",
       "<table border=\"1\" class=\"dataframe\">\n",
       "  <thead>\n",
       "    <tr style=\"text-align: right;\">\n",
       "      <th></th>\n",
       "      <th>time</th>\n",
       "      <th>value</th>\n",
       "      <th>patient_ID</th>\n",
       "      <th>signal_type</th>\n",
       "    </tr>\n",
       "  </thead>\n",
       "  <tbody>\n",
       "    <tr>\n",
       "      <th>28800</th>\n",
       "      <td>1.630454e+09</td>\n",
       "      <td>89</td>\n",
       "      <td>257777778</td>\n",
       "      <td>SpO2</td>\n",
       "    </tr>\n",
       "    <tr>\n",
       "      <th>28801</th>\n",
       "      <td>1.630454e+09</td>\n",
       "      <td>89</td>\n",
       "      <td>257777778</td>\n",
       "      <td>SpO2</td>\n",
       "    </tr>\n",
       "    <tr>\n",
       "      <th>28802</th>\n",
       "      <td>1.630454e+09</td>\n",
       "      <td>89</td>\n",
       "      <td>257777778</td>\n",
       "      <td>SpO2</td>\n",
       "    </tr>\n",
       "    <tr>\n",
       "      <th>28803</th>\n",
       "      <td>1.630455e+09</td>\n",
       "      <td>89</td>\n",
       "      <td>257777778</td>\n",
       "      <td>SpO2</td>\n",
       "    </tr>\n",
       "    <tr>\n",
       "      <th>28804</th>\n",
       "      <td>1.630455e+09</td>\n",
       "      <td>90</td>\n",
       "      <td>257777778</td>\n",
       "      <td>SpO2</td>\n",
       "    </tr>\n",
       "  </tbody>\n",
       "</table>\n",
       "</div>"
      ],
      "text/plain": [
       "               time  value  patient_ID signal_type\n",
       "28800  1.630454e+09     89   257777778        SpO2\n",
       "28801  1.630454e+09     89   257777778        SpO2\n",
       "28802  1.630454e+09     89   257777778        SpO2\n",
       "28803  1.630455e+09     89   257777778        SpO2\n",
       "28804  1.630455e+09     90   257777778        SpO2"
      ]
     },
     "execution_count": 346,
     "metadata": {},
     "output_type": "execute_result"
    }
   ],
   "source": [
    "SPO2_signals = patient_signals.loc[patient_signals['signal_type'] == \"SpO2\"]\n",
    "SPO2_signals.head()"
   ]
  },
  {
   "cell_type": "markdown",
   "metadata": {},
   "source": [
    "### Find the mean, median, lowest and highest SpO2"
   ]
  },
  {
   "cell_type": "code",
   "execution_count": 347,
   "metadata": {},
   "outputs": [],
   "source": [
    "meanSPO2 = np.mean(SPO2_signals['value'])\n",
    "highSPO2 = np.max(SPO2_signals['value'])\n",
    "lowSPO2 = np.min(SPO2_signals['value'])"
   ]
  },
  {
   "cell_type": "code",
   "execution_count": 348,
   "metadata": {},
   "outputs": [
    {
     "name": "stdout",
     "output_type": "stream",
     "text": [
      "Average FiO2 measured: 79.0\n",
      "Highest FiO2 measured: 100\n",
      "Lowest FiO2 measured: 30\n"
     ]
    }
   ],
   "source": [
    "print(\"Average FiO2 measured:\", round(meanSPO2, 2))\n",
    "print(\"Highest FiO2 measured:\", highSPO2)\n",
    "print(\"Lowest FiO2 measured:\", lowSPO2)"
   ]
  },
  {
   "cell_type": "code",
   "execution_count": 349,
   "metadata": {},
   "outputs": [
    {
     "data": {
      "text/plain": [
       "6"
      ]
     },
     "execution_count": 349,
     "metadata": {},
     "output_type": "execute_result"
    }
   ],
   "source": [
    "lowest_value = SPO2_signals.loc[SPO2_signals[\"value\"] == 30]\n",
    "lowest_value[\"patient_ID\"].count()"
   ]
  },
  {
   "cell_type": "code",
   "execution_count": 350,
   "metadata": {},
   "outputs": [
    {
     "data": {
      "text/plain": [
       "[<matplotlib.lines.Line2D at 0x7fb89b341e80>]"
      ]
     },
     "execution_count": 350,
     "metadata": {},
     "output_type": "execute_result"
    },
    {
     "data": {
      "image/png": "[encoded data removed]",
      "text/plain": [
       "<Figure size 432x288 with 1 Axes>"
      ]
     },
     "metadata": {
      "needs_background": "light"
     },
     "output_type": "display_data"
    }
   ],
   "source": [
    "SPO2_sub = SPO2_signals.iloc[1:1000]\n",
    "plt.plot(SPO2_sub['time'], SPO2_sub['value'])"
   ]
  },
  {
   "cell_type": "markdown",
   "metadata": {},
   "source": [
    "## Taxillair"
   ]
  },
  {
   "cell_type": "code",
   "execution_count": 351,
   "metadata": {},
   "outputs": [
    {
     "data": {
      "text/html": [
       "<div>\n",
       "<style scoped>\n",
       "    .dataframe tbody tr th:only-of-type {\n",
       "        vertical-align: middle;\n",
       "    }\n",
       "\n",
       "    .dataframe tbody tr th {\n",
       "        vertical-align: top;\n",
       "    }\n",
       "\n",
       "    .dataframe thead th {\n",
       "        text-align: right;\n",
       "    }\n",
       "</style>\n",
       "<table border=\"1\" class=\"dataframe\">\n",
       "  <thead>\n",
       "    <tr style=\"text-align: right;\">\n",
       "      <th></th>\n",
       "      <th>time</th>\n",
       "      <th>value</th>\n",
       "      <th>patient_ID</th>\n",
       "      <th>signal_type</th>\n",
       "    </tr>\n",
       "  </thead>\n",
       "  <tbody>\n",
       "    <tr>\n",
       "      <th>86399</th>\n",
       "      <td>1.630454e+09</td>\n",
       "      <td>97</td>\n",
       "      <td>257777778</td>\n",
       "      <td>Taxillair</td>\n",
       "    </tr>\n",
       "    <tr>\n",
       "      <th>86400</th>\n",
       "      <td>1.630469e+09</td>\n",
       "      <td>99</td>\n",
       "      <td>257777778</td>\n",
       "      <td>Taxillair</td>\n",
       "    </tr>\n",
       "    <tr>\n",
       "      <th>86401</th>\n",
       "      <td>1.630483e+09</td>\n",
       "      <td>98</td>\n",
       "      <td>257777778</td>\n",
       "      <td>Taxillair</td>\n",
       "    </tr>\n",
       "    <tr>\n",
       "      <th>86402</th>\n",
       "      <td>1.630498e+09</td>\n",
       "      <td>103</td>\n",
       "      <td>257777778</td>\n",
       "      <td>Taxillair</td>\n",
       "    </tr>\n",
       "    <tr>\n",
       "      <th>86403</th>\n",
       "      <td>1.630512e+09</td>\n",
       "      <td>97</td>\n",
       "      <td>257777778</td>\n",
       "      <td>Taxillair</td>\n",
       "    </tr>\n",
       "  </tbody>\n",
       "</table>\n",
       "</div>"
      ],
      "text/plain": [
       "               time  value  patient_ID signal_type\n",
       "86399  1.630454e+09     97   257777778   Taxillair\n",
       "86400  1.630469e+09     99   257777778   Taxillair\n",
       "86401  1.630483e+09     98   257777778   Taxillair\n",
       "86402  1.630498e+09    103   257777778   Taxillair\n",
       "86403  1.630512e+09     97   257777778   Taxillair"
      ]
     },
     "execution_count": 351,
     "metadata": {},
     "output_type": "execute_result"
    }
   ],
   "source": [
    "Tax_signals = patient_signals.loc[patient_signals['signal_type'] == \"Taxillair\"]\n",
    "Tax_signals.head()"
   ]
  },
  {
   "cell_type": "markdown",
   "metadata": {},
   "source": [
    "### Find the mean, median, lowest and highest SpO2"
   ]
  },
  {
   "cell_type": "code",
   "execution_count": 352,
   "metadata": {},
   "outputs": [],
   "source": [
    "meanTax = np.mean(Tax_signals['value'])\n",
    "highTax = np.max(Tax_signals['value'])\n",
    "lowTax = np.min(Tax_signals['value'])"
   ]
  },
  {
   "cell_type": "code",
   "execution_count": 353,
   "metadata": {},
   "outputs": [
    {
     "name": "stdout",
     "output_type": "stream",
     "text": [
      "Average FiO2 measured: 99.87\n",
      "Highest FiO2 measured: 104\n",
      "Lowest FiO2 measured: 97\n"
     ]
    }
   ],
   "source": [
    "print(\"Average FiO2 measured:\", round(meanTax, 2))\n",
    "print(\"Highest FiO2 measured:\", highTax)\n",
    "print(\"Lowest FiO2 measured:\", lowTax)"
   ]
  },
  {
   "cell_type": "code",
   "execution_count": 354,
   "metadata": {},
   "outputs": [
    {
     "data": {
      "text/plain": [
       "<matplotlib.collections.PathCollection at 0x7fb89bb68fa0>"
      ]
     },
     "execution_count": 354,
     "metadata": {},
     "output_type": "execute_result"
    },
    {
     "data": {
      "image/png": "[encoded data removed]",
      "text/plain": [
       "<Figure size 432x288 with 1 Axes>"
      ]
     },
     "metadata": {
      "needs_background": "light"
     },
     "output_type": "display_data"
    }
   ],
   "source": [
    "T_sub = Tax_signals.iloc[1:50]\n",
    "plt.plot(T_sub['time'], T_sub['value'])\n",
    "plt.scatter(T_sub['time'], T_sub['value'])"
   ]
  },
  {
   "cell_type": "markdown",
   "metadata": {},
   "source": [
    "# Making the data matrix"
   ]
  },
  {
   "cell_type": "code",
   "execution_count": 382,
   "metadata": {},
   "outputs": [],
   "source": [
    "HF_Sum_results = np.empty((0, 3), float)\n",
    "Days_Sum_results = np.empty((0, 1), int)\n",
    "FiO2_Sum_results = np.empty((0, 3), float)\n",
    "SpO2_Sum_results = np.empty((0, 3), float)\n",
    "Taxillair_Sum_results = np.empty((0, 3), float)\n",
    "birth_weight_results = np.empty((0, 1), float)\n",
    "date_of_birth_results = np.empty((0, 1), str)\n",
    "gestational_age_results = np.empty((0, 1), float)\n",
    "sick_results = np.empty((0, 1), str)"
   ]
  },
  {
   "cell_type": "code",
   "execution_count": 394,
   "metadata": {},
   "outputs": [],
   "source": [
    "idx = 0\n",
    "while(idx < 23):\n",
    "    #unique patients\n",
    "    patientid = np.unique(metaNeeded.index)[idx]\n",
    "    patients_signals = rawsignals.loc[rawsignals['patient_ID'] == patientid]\n",
    "    #for HF\n",
    "    HFsignals = patients_signals.loc[patients_signals['signal_type'] == \"HF\"]\n",
    "    meanHF = np.mean(HFsignals['value'])\n",
    "    highHF = np.max(HFsignals['value'])\n",
    "    lowHF = np.min(HFsignals['value'])\n",
    "    totals = [[meanHF, highHF, lowHF]]\n",
    "    HF_Sum_results = np.append(HF_Sum_results, totals, axis = 0)\n",
    "    \n",
    "    #days in hospital\n",
    "    inHospital = time.strftime('%Y-%m-%d %H:%M:%S', time.localtime(np.min(patients_signals['time'])))\n",
    "    outHospital = time.strftime('%Y-%m-%d %H:%M:%S', time.localtime(np.max(patients_signals['time'])))\n",
    "    \n",
    "    startdate = datetime.strptime(inHospital, '%Y-%m-%d %H:%M:%S')\n",
    "    enddate = datetime.strptime(outHospital, '%Y-%m-%d %H:%M:%S')\n",
    "    roundDateStart = startdate.replace(hour=0, minute=0, second=0, microsecond=0)\n",
    "    roundDateEnd = enddate.replace(hour=0, minute=0, second=0, microsecond=0)\n",
    "    \n",
    "    daysInHospital = (roundDateEnd - roundDateStart).days\n",
    "    totalDays = [[daysInHospital]]\n",
    "    Days_Sum_results = np.append(Days_Sum_results, totalDays, axis = 0)\n",
    "    \n",
    "    #FiO2 \n",
    "    FIsignals = patients_signals.loc[patients_signals['signal_type'] == \"FiO2\"]\n",
    "    meanFI = np.mean(FIsignals['value'])\n",
    "    highFI = np.max(FIsignals['value'])\n",
    "    lowFI = np.min(FIsignals['value'])\n",
    "    totalFI = [[meanFI, highFI, lowFI]]\n",
    "    FiO2_Sum_results = np.append(FiO2_Sum_results, totalFI, axis = 0)\n",
    "    \n",
    "    #SpO2\n",
    "    SPsignals = patients_signals.loc[patients_signals['signal_type'] == \"SpO2\"]\n",
    "    meanSP = np.mean(SPsignals['value'])\n",
    "    highSP = np.max(SPsignals['value'])\n",
    "    lowSP = np.min(SPsignals['value'])\n",
    "    totalSP = [[meanSP, highSP, lowSP]]\n",
    "    SpO2_Sum_results = np.append(SpO2_Sum_results, totalSP, axis = 0)\n",
    "    \n",
    "    #Taxillair\n",
    "    TaxSignals = patients_signals.loc[patients_signals['signal_type'] == \"Taxillair\"]\n",
    "    meanTax = np.mean(TaxSignals['value'])\n",
    "    highTax = np.max(TaxSignals['value'])\n",
    "    lowTax = np.min(TaxSignals['value'])\n",
    "    totalTax = [[meanTax, highTax, lowTax]]\n",
    "    Taxillair_Sum_results = np.append(Taxillair_Sum_results, totalTax, axis = 0)\n",
    "\n",
    "    idx+=1"
   ]
  },
  {
   "cell_type": "code",
   "execution_count": 415,
   "metadata": {},
   "outputs": [],
   "source": [
    "for index, row in metaNeeded.iterrows():\n",
    "    birth_weight_results  = np.append(birth_weight_results, [[row['birth_weight']]], axis = 0)\n",
    "    date_of_birth_results  = np.append(date_of_birth_results, [[row['date_of_birth']]], axis = 0)\n",
    "    gestational_age_results  = np.append(gestational_age_results, [[row['gestational_age']]], axis = 0)\n",
    "    sick_results  = np.append(sick_results, [[row['sick']]], axis = 0)"
   ]
  },
  {
   "cell_type": "code",
   "execution_count": 416,
   "metadata": {},
   "outputs": [
    {
     "data": {
      "text/plain": [
       "array([[176.5703125 , 206.        ,  79.        ],\n",
       "       [214.42756944, 256.        ,  82.        ],\n",
       "       [199.70670139, 232.        ,  80.        ],\n",
       "       [160.20114583, 438.        ,  62.        ],\n",
       "       [126.53604167, 173.        ,  44.        ],\n",
       "       [194.24465278, 226.        ,  84.        ],\n",
       "       [203.63774306, 235.        ,  89.        ],\n",
       "       [132.77333333, 180.        ,  51.        ],\n",
       "       [134.42805556, 163.        ,  57.        ],\n",
       "       [164.13753472, 198.        ,  69.        ],\n",
       "       [152.09524306, 175.        ,  64.        ],\n",
       "       [128.72090278, 414.        ,  47.        ],\n",
       "       [153.99097222, 191.        ,  58.        ],\n",
       "       [146.21402778, 175.        ,  57.        ],\n",
       "       [145.18861111, 173.        ,  52.        ],\n",
       "       [160.43802083, 416.        ,  62.        ],\n",
       "       [166.87854167, 195.        ,  70.        ],\n",
       "       [136.26270833, 425.        ,  55.        ],\n",
       "       [125.30038194, 169.        ,  48.        ],\n",
       "       [148.90427083, 182.        ,  58.        ],\n",
       "       [193.64420139, 215.        ,  88.        ],\n",
       "       [178.84461806, 214.        ,  71.        ],\n",
       "       [149.00125   , 183.        ,  60.        ]])"
      ]
     },
     "execution_count": 416,
     "metadata": {},
     "output_type": "execute_result"
    }
   ],
   "source": [
    "HF_Sum_results"
   ]
  },
  {
   "cell_type": "code",
   "execution_count": 417,
   "metadata": {},
   "outputs": [
    {
     "data": {
      "text/plain": [
       "array([[10],\n",
       "       [10],\n",
       "       [10],\n",
       "       [10],\n",
       "       [10],\n",
       "       [10],\n",
       "       [10],\n",
       "       [10],\n",
       "       [10],\n",
       "       [10],\n",
       "       [10],\n",
       "       [10],\n",
       "       [10],\n",
       "       [10],\n",
       "       [10],\n",
       "       [10],\n",
       "       [10],\n",
       "       [10],\n",
       "       [10],\n",
       "       [10],\n",
       "       [10],\n",
       "       [10],\n",
       "       [10]])"
      ]
     },
     "execution_count": 417,
     "metadata": {},
     "output_type": "execute_result"
    }
   ],
   "source": [
    "Days_Sum_results"
   ]
  },
  {
   "cell_type": "code",
   "execution_count": 418,
   "metadata": {},
   "outputs": [
    {
     "data": {
      "text/plain": [
       "array([[ 30.42015348, 100.        ,  21.        ],\n",
       "       [ 30.36008195, 100.        ,  21.        ],\n",
       "       [ 32.7862773 , 100.        ,  21.        ],\n",
       "       [ 31.42886906, 100.        ,  21.        ],\n",
       "       [ 30.36035973, 100.        ,  21.        ],\n",
       "       [ 32.14590784, 100.        ,  21.        ],\n",
       "       [ 29.88989201, 100.        ,  21.        ],\n",
       "       [ 32.92614327, 100.        ,  21.        ],\n",
       "       [ 29.99583319, 100.        ,  21.        ],\n",
       "       [ 29.26532171, 100.        ,  21.        ],\n",
       "       [ 29.52609466, 100.        ,  21.        ],\n",
       "       [ 31.20691691, 100.        ,  21.        ],\n",
       "       [ 31.16101254, 100.        ,  21.        ],\n",
       "       [ 32.56811   , 100.        ,  21.        ],\n",
       "       [ 31.60255564, 100.        ,  21.        ],\n",
       "       [ 30.01406299, 100.        ,  21.        ],\n",
       "       [ 32.14552589, 100.        ,  21.        ],\n",
       "       [ 29.8642314 , 100.        ,  21.        ],\n",
       "       [ 30.93572693, 100.        ,  21.        ],\n",
       "       [ 30.36942255, 100.        ,  21.        ],\n",
       "       [ 31.43320949, 100.        ,  21.        ],\n",
       "       [ 31.42570923, 100.        ,  21.        ],\n",
       "       [ 30.84325845, 100.        ,  21.        ]])"
      ]
     },
     "execution_count": 418,
     "metadata": {},
     "output_type": "execute_result"
    }
   ],
   "source": [
    "FiO2_Sum_results"
   ]
  },
  {
   "cell_type": "code",
   "execution_count": 419,
   "metadata": {},
   "outputs": [
    {
     "data": {
      "text/plain": [
       "array([[ 79.00309028, 100.        ,  30.        ],\n",
       "       [ 99.52194444, 100.        ,  30.        ],\n",
       "       [ 82.12461806, 100.        ,  30.        ],\n",
       "       [ 66.39302083,  96.        ,  30.        ],\n",
       "       [ 98.44211806, 100.        ,  30.        ],\n",
       "       [ 95.29861111, 100.        ,  31.        ],\n",
       "       [ 72.01111111,  96.        ,  31.        ],\n",
       "       [ 62.53392361,  92.        ,  30.        ],\n",
       "       [ 97.26538194, 100.        ,  30.        ],\n",
       "       [ 68.05409722, 100.        ,  30.        ],\n",
       "       [ 95.88100694, 100.        ,  30.        ],\n",
       "       [ 74.93607639,  93.        ,  30.        ],\n",
       "       [ 69.47621528,  91.        ,  30.        ],\n",
       "       [ 90.70440972, 100.        ,  30.        ],\n",
       "       [ 88.25958333, 100.        ,  30.        ],\n",
       "       [ 80.44826389, 100.        ,  30.        ],\n",
       "       [ 93.71954861, 100.        ,  30.        ],\n",
       "       [ 84.09850694, 100.        ,  30.        ],\n",
       "       [ 98.40697917, 100.        ,  30.        ],\n",
       "       [ 59.15472222,  97.        ,  29.        ],\n",
       "       [ 86.99604167, 100.        ,  30.        ],\n",
       "       [ 40.65628472,  89.        ,  19.        ],\n",
       "       [ 96.07513889, 100.        ,  30.        ]])"
      ]
     },
     "execution_count": 419,
     "metadata": {},
     "output_type": "execute_result"
    }
   ],
   "source": [
    "SpO2_Sum_results"
   ]
  },
  {
   "cell_type": "code",
   "execution_count": 420,
   "metadata": {},
   "outputs": [
    {
     "data": {
      "text/plain": [
       "array([[ 99.86666667, 104.        ,  97.        ],\n",
       "       [100.46666667, 104.        ,  97.        ],\n",
       "       [100.26666667, 104.        ,  97.        ],\n",
       "       [100.26666667, 104.        ,  97.        ],\n",
       "       [100.5       , 104.        ,  97.        ],\n",
       "       [100.4       , 104.        ,  97.        ],\n",
       "       [100.7       , 104.        ,  97.        ],\n",
       "       [100.6       , 104.        ,  97.        ],\n",
       "       [100.75      , 104.        ,  97.        ],\n",
       "       [100.58333333, 104.        ,  97.        ],\n",
       "       [101.21666667, 104.        ,  97.        ],\n",
       "       [100.4       , 104.        ,  97.        ],\n",
       "       [100.98333333, 104.        ,  97.        ],\n",
       "       [100.86666667, 104.        ,  97.        ],\n",
       "       [100.36666667, 104.        ,  97.        ],\n",
       "       [100.3       , 104.        ,  97.        ],\n",
       "       [100.58333333, 104.        ,  97.        ],\n",
       "       [100.06666667, 104.        ,  97.        ],\n",
       "       [100.8       , 104.        ,  97.        ],\n",
       "       [100.55      , 104.        ,  97.        ],\n",
       "       [100.63333333, 104.        ,  97.        ],\n",
       "       [100.81666667, 104.        ,  97.        ],\n",
       "       [ 99.93333333, 104.        ,  97.        ]])"
      ]
     },
     "execution_count": 420,
     "metadata": {},
     "output_type": "execute_result"
    }
   ],
   "source": [
    "Taxillair_Sum_results"
   ]
  },
  {
   "cell_type": "code",
   "execution_count": 421,
   "metadata": {},
   "outputs": [
    {
     "data": {
      "text/plain": [
       "array([['1895'],\n",
       "       ['1895'],\n",
       "       ['1030'],\n",
       "       ['0.556'],\n",
       "       ['1615'],\n",
       "       ['1873'],\n",
       "       ['714'],\n",
       "       ['1125'],\n",
       "       ['721'],\n",
       "       ['795'],\n",
       "       ['1585'],\n",
       "       ['1130'],\n",
       "       ['582'],\n",
       "       ['486'],\n",
       "       ['1897'],\n",
       "       ['1388'],\n",
       "       ['896'],\n",
       "       ['1908'],\n",
       "       ['1.773'],\n",
       "       ['1895'],\n",
       "       ['556'],\n",
       "       ['1357'],\n",
       "       ['1162'],\n",
       "       ['980']], dtype='<U32')"
      ]
     },
     "execution_count": 421,
     "metadata": {},
     "output_type": "execute_result"
    }
   ],
   "source": [
    "birth_weight_results"
   ]
  },
  {
   "cell_type": "code",
   "execution_count": 422,
   "metadata": {},
   "outputs": [
    {
     "data": {
      "text/plain": [
       "array([['2021-08-30 12:00:00'],\n",
       "       ['2021-08-31 08:00:00'],\n",
       "       ['2021-09-07 13:00:00'],\n",
       "       ['2021-09-13 10:00:00'],\n",
       "       ['2021-09-20 11:00:00'],\n",
       "       ['2021-09-22 14:00:00'],\n",
       "       ['2021-09-25 03:00:00'],\n",
       "       ['2021-09-27 05:00:00'],\n",
       "       ['2021-10-02 07:00:00'],\n",
       "       ['2021-10-04 21:00:00'],\n",
       "       ['2021-10-10 14:00:00'],\n",
       "       ['2021-10-13 23:00:00'],\n",
       "       ['2021-10-19 11:00:00'],\n",
       "       ['2021-10-22 16:00:00'],\n",
       "       ['2021-10-28 13:00:00'],\n",
       "       ['2021-10-31 15:00:00'],\n",
       "       ['2021-11-03 16:00:00'],\n",
       "       ['2021-11-05 22:00:00'],\n",
       "       ['2021-11-08 19:00:00'],\n",
       "       ['2021-11-12 15:00:00'],\n",
       "       ['2021-11-16 08:00:00'],\n",
       "       ['2021-11-18 10:00:00'],\n",
       "       ['2021-11-25 06:00:00']], dtype='<U19')"
      ]
     },
     "execution_count": 422,
     "metadata": {},
     "output_type": "execute_result"
    }
   ],
   "source": [
    "date_of_birth_results"
   ]
  },
  {
   "cell_type": "code",
   "execution_count": 423,
   "metadata": {},
   "outputs": [
    {
     "data": {
      "text/plain": [
       "array([['34.87'],\n",
       "       ['27.77'],\n",
       "       ['23.84'],\n",
       "       ['32.5'],\n",
       "       ['34.66'],\n",
       "       ['24.99'],\n",
       "       ['28.51'],\n",
       "       ['25.06'],\n",
       "       ['25.78'],\n",
       "       ['32.27'],\n",
       "       ['28.44'],\n",
       "       ['24.02'],\n",
       "       ['23.1'],\n",
       "       ['34.83'],\n",
       "       ['30.67'],\n",
       "       ['26.54'],\n",
       "       ['34.96'],\n",
       "       ['33.87'],\n",
       "       ['34.86'],\n",
       "       ['23.79'],\n",
       "       ['30.52'],\n",
       "       ['28.89'],\n",
       "       ['27.35']], dtype='<U32')"
      ]
     },
     "execution_count": 423,
     "metadata": {},
     "output_type": "execute_result"
    }
   ],
   "source": [
    "gestational_age_results"
   ]
  },
  {
   "cell_type": "code",
   "execution_count": 424,
   "metadata": {},
   "outputs": [
    {
     "data": {
      "text/plain": [
       "array([['false'],\n",
       "       ['false'],\n",
       "       ['true'],\n",
       "       ['false'],\n",
       "       ['false'],\n",
       "       ['false'],\n",
       "       ['false'],\n",
       "       ['true'],\n",
       "       ['false'],\n",
       "       ['true'],\n",
       "       ['false'],\n",
       "       ['true'],\n",
       "       ['true'],\n",
       "       ['true'],\n",
       "       ['true'],\n",
       "       ['false'],\n",
       "       ['false'],\n",
       "       ['false'],\n",
       "       ['false'],\n",
       "       ['true'],\n",
       "       ['true'],\n",
       "       ['true'],\n",
       "       ['false']], dtype='<U5')"
      ]
     },
     "execution_count": 424,
     "metadata": {},
     "output_type": "execute_result"
    }
   ],
   "source": [
    "sick_results"
   ]
  },
  {
   "cell_type": "code",
   "execution_count": null,
   "metadata": {},
   "outputs": [],
   "source": []
  }
 ],
 "metadata": {
  "kernelspec": {
   "display_name": "Python 3",
   "language": "python",
   "name": "python3"
  },
  "language_info": {
   "codemirror_mode": {
    "name": "ipython",
    "version": 3
   },
   "file_extension": ".py",
   "mimetype": "text/x-python",
   "name": "python",
   "nbconvert_exporter": "python",
   "pygments_lexer": "ipython3",
   "version": "3.8.5"
  }
 },
 "nbformat": 4,
 "nbformat_minor": 5
}
