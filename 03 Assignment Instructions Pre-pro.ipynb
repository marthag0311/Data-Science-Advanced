{
 "cells": [
  {
   "cell_type": "markdown",
   "metadata": {},
   "source": [
    "# Machine Learning pre-processing workflow\n",
    "\n",
    "Last week we did some exploratory data analysis (EDA) on the patient data. This is important to already investigate certain patterns in the data (some of which are artefacts, remember FiO2?). EDA is only the beginning, it is necessary to do the next part correct. \n",
    "\n",
    "This next part is called pre-processing, signal-processing, or processing depending on who you ask. The aim is to get to the data matrix which we know from the first lesson. This data matrix can then be used for machine learning.\n",
    "\n",
    "\n",
    "In this lesson you will:\n",
    "\n",
    "- use your EDA knowledge to clean the data\n",
    "- extract meaningfull features from the data\n",
    "- construct the data matrix"
   ]
  },
  {
   "cell_type": "markdown",
   "metadata": {},
   "source": [
    "## The data\n",
    "But first, let's discuss the data in a bit more detail:\n",
    "\n",
    "- the raw signals you know already: HF (Heart Rate), FiO2 (administered oxygen), SpO2 (oxygen saturation), and Taxillair (Temperature).\n",
    "- There are also metadata. Most are self explanatory. Think about which ones you might also want to include in your final data matrix. p.s. gestational_age is the age at birth in weeks (9 months = ca. 40 weeks).\n",
    "- the patients are healyth at the start of the data for at least 2 days\n",
    "- some patients get sick at the end of the data. The last day these patients are definately sick but possibly already longer. \n",
    "- which patiets are of the sick type you can find in the End_of_stay_disease.txt file \n",
    "\n"
   ]
  },
  {
   "cell_type": "markdown",
   "metadata": {},
   "source": [
    "## Procedure example\n",
    "\n",
    "Before we start, let me outline a procedure you can follow which I think is relatively easy. In this way you can build your processing script (and data matrix) part by part. Note, you can also use your own method.\n",
    "\n",
    "1. You start with 1 patient (at the end we will loop over all patients so keep this in mind when writing your script).\n",
    "2. Do 1 signal at a time (so start with the heart rate, or FiO2 or whatever.)\n",
    "3. Clean the signal \n",
    "4. calculate metrics/features on this signal (or other derived signals) and add these to an array or initialized matrix. A trivial example of a feature could be: the average heart rate in the last 24 hours. Try to be somewhat creative here.\n",
    "5. repeat for all signals\n",
    "6. Think whether you want to include some metadata into your feature matrix\n",
    "7. if everything calculates correct, write it into a loop and keep track of the outcome (healthy vs disease)\n",
    "\n",
    "At the end you should have a matrix. How many rows and how many columns will depend on your approach. But try to be clever with the data, can you produce more rows with the data? This will help your machine learning. Also, try to think of different features/metrics that you calculate, the more different they are the more chance you have of getting some crucial patterns\n",
    "\n",
    "p.s. I showed you an example of how to accumulate features (columns) in an empty matrix, see the flower notebook from the first lesson for that.\n"
   ]
  },
  {
   "cell_type": "markdown",
   "metadata": {},
   "source": [
    "## Submission and scoring\n",
    "\n",
    "At the end you should have a matrix, name your columns and describe each column (each feature), e.g. feat_1 = \"average heart rate in the last 24 hours\". This way I can see which ones you built without having to figure it out from your code. Please also clean up your notebook and code you submit to me. Keep the dirty version to yourself. \n",
    "\n",
    "I will grade you on the follwoing things:\n",
    "- your code works (test this out, you can assume I have the files in my working directory)\n",
    "- your notebook is clean and well documented with some text (but no shakespearean novels please)\n",
    "- you cleaned the data correctly\n",
    "- your pre processing ideas and execution\n",
    "- the features you calculate\n",
    "\n",
    "- you can earn a little extra if you show that you can train a model on your matrix (this way I now your feature matrix and outcome vector are ok), and if you then evaluate the performance on the training data. The actual performance is of no importance, so don't worry should it be bad."
   ]
  },
  {
   "cell_type": "code",
   "execution_count": null,
   "metadata": {},
   "outputs": [],
   "source": []
  }
 ],
 "metadata": {
  "kernelspec": {
   "display_name": "Python 3",
   "language": "python",
   "name": "python3"
  },
  "language_info": {
   "codemirror_mode": {
    "name": "ipython",
    "version": 3
   },
   "file_extension": ".py",
   "mimetype": "text/x-python",
   "name": "python",
   "nbconvert_exporter": "python",
   "pygments_lexer": "ipython3",
   "version": "3.8.5"
  }
 },
 "nbformat": 4,
 "nbformat_minor": 5
}
