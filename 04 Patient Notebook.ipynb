{
 "cells": [
  {
   "cell_type": "markdown",
   "metadata": {},
   "source": [
    "# Flower data, basic ML model\n",
    "\n",
    "In this notebook we will train our first machine learning model. The goal is to predict the labels of unknown flowers. "
   ]
  },
  {
   "cell_type": "markdown",
   "metadata": {},
   "source": [
    "### loading libraries"
   ]
  },
  {
   "cell_type": "code",
   "execution_count": 1,
   "metadata": {},
   "outputs": [],
   "source": [
    "import matplotlib.image as img # To load the images\n",
    "import matplotlib.pyplot as plt # To plot the images\n",
    "\n",
    "import copy  # to copy variables\n",
    "import numpy as np # To do some calculations\n",
    "import pandas as pd # To work with dataframes (easier matrices)\n",
    "from sklearn.ensemble import RandomForestClassifier # The machine learning model \n",
    "from os import listdir # To get a list of files in a folder"
   ]
  },
  {
   "cell_type": "markdown",
   "metadata": {},
   "source": [
    "## Calculating features\n",
    "\n",
    "We want to quantify our image in  few variables which we have to calculate. In class we saw the sum example. So let's calculate the sum for each color, and let's see how we would be able to gather that data up in a matrix like structure (ndarray in python)."
   ]
  },
  {
   "cell_type": "markdown",
   "metadata": {},
   "source": [
    "## Making the data matrix\n",
    "\n",
    "The ML model we want to train expects"
   ]
  },
  {
   "cell_type": "code",
   "execution_count": 4,
   "metadata": {},
   "outputs": [
    {
     "data": {
      "text/html": [
       "<div>\n",
       "<style scoped>\n",
       "    .dataframe tbody tr th:only-of-type {\n",
       "        vertical-align: middle;\n",
       "    }\n",
       "\n",
       "    .dataframe tbody tr th {\n",
       "        vertical-align: top;\n",
       "    }\n",
       "\n",
       "    .dataframe thead th {\n",
       "        text-align: right;\n",
       "    }\n",
       "</style>\n",
       "<table border=\"1\" class=\"dataframe\">\n",
       "  <thead>\n",
       "    <tr style=\"text-align: right;\">\n",
       "      <th></th>\n",
       "      <th>time</th>\n",
       "      <th>value</th>\n",
       "      <th>NICU_ID</th>\n",
       "      <th>field</th>\n",
       "      <th>measurement</th>\n",
       "      <th>hospital_ID</th>\n",
       "      <th>patient_ID</th>\n",
       "      <th>signal_type</th>\n",
       "    </tr>\n",
       "  </thead>\n",
       "  <tbody>\n",
       "    <tr>\n",
       "      <th>0</th>\n",
       "      <td>1.630454e+09</td>\n",
       "      <td>171</td>\n",
       "      <td>Bed  1</td>\n",
       "      <td>signal_value</td>\n",
       "      <td>rawsignal</td>\n",
       "      <td>UZA</td>\n",
       "      <td>257777778</td>\n",
       "      <td>HF</td>\n",
       "    </tr>\n",
       "    <tr>\n",
       "      <th>1</th>\n",
       "      <td>1.630454e+09</td>\n",
       "      <td>170</td>\n",
       "      <td>Bed  1</td>\n",
       "      <td>signal_value</td>\n",
       "      <td>rawsignal</td>\n",
       "      <td>UZA</td>\n",
       "      <td>257777778</td>\n",
       "      <td>HF</td>\n",
       "    </tr>\n",
       "    <tr>\n",
       "      <th>2</th>\n",
       "      <td>1.630454e+09</td>\n",
       "      <td>170</td>\n",
       "      <td>Bed  1</td>\n",
       "      <td>signal_value</td>\n",
       "      <td>rawsignal</td>\n",
       "      <td>UZA</td>\n",
       "      <td>257777778</td>\n",
       "      <td>HF</td>\n",
       "    </tr>\n",
       "    <tr>\n",
       "      <th>3</th>\n",
       "      <td>1.630454e+09</td>\n",
       "      <td>170</td>\n",
       "      <td>Bed  1</td>\n",
       "      <td>signal_value</td>\n",
       "      <td>rawsignal</td>\n",
       "      <td>UZA</td>\n",
       "      <td>257777778</td>\n",
       "      <td>HF</td>\n",
       "    </tr>\n",
       "    <tr>\n",
       "      <th>4</th>\n",
       "      <td>1.630455e+09</td>\n",
       "      <td>169</td>\n",
       "      <td>Bed  1</td>\n",
       "      <td>signal_value</td>\n",
       "      <td>rawsignal</td>\n",
       "      <td>UZA</td>\n",
       "      <td>257777778</td>\n",
       "      <td>HF</td>\n",
       "    </tr>\n",
       "    <tr>\n",
       "      <th>...</th>\n",
       "      <td>...</td>\n",
       "      <td>...</td>\n",
       "      <td>...</td>\n",
       "      <td>...</td>\n",
       "      <td>...</td>\n",
       "      <td>...</td>\n",
       "      <td>...</td>\n",
       "      <td>...</td>\n",
       "    </tr>\n",
       "    <tr>\n",
       "      <th>1988552</th>\n",
       "      <td>1.638763e+09</td>\n",
       "      <td>99</td>\n",
       "      <td>Bed  6</td>\n",
       "      <td>signal_value</td>\n",
       "      <td>rawsignal</td>\n",
       "      <td>UZA</td>\n",
       "      <td>257777807</td>\n",
       "      <td>Taxillair</td>\n",
       "    </tr>\n",
       "    <tr>\n",
       "      <th>1988553</th>\n",
       "      <td>1.638778e+09</td>\n",
       "      <td>101</td>\n",
       "      <td>Bed  6</td>\n",
       "      <td>signal_value</td>\n",
       "      <td>rawsignal</td>\n",
       "      <td>UZA</td>\n",
       "      <td>257777807</td>\n",
       "      <td>Taxillair</td>\n",
       "    </tr>\n",
       "    <tr>\n",
       "      <th>1988554</th>\n",
       "      <td>1.638792e+09</td>\n",
       "      <td>100</td>\n",
       "      <td>Bed  6</td>\n",
       "      <td>signal_value</td>\n",
       "      <td>rawsignal</td>\n",
       "      <td>UZA</td>\n",
       "      <td>257777807</td>\n",
       "      <td>Taxillair</td>\n",
       "    </tr>\n",
       "    <tr>\n",
       "      <th>1988555</th>\n",
       "      <td>1.638806e+09</td>\n",
       "      <td>102</td>\n",
       "      <td>Bed  6</td>\n",
       "      <td>signal_value</td>\n",
       "      <td>rawsignal</td>\n",
       "      <td>UZA</td>\n",
       "      <td>257777807</td>\n",
       "      <td>Taxillair</td>\n",
       "    </tr>\n",
       "    <tr>\n",
       "      <th>1988556</th>\n",
       "      <td>1.638821e+09</td>\n",
       "      <td>99</td>\n",
       "      <td>Bed  6</td>\n",
       "      <td>signal_value</td>\n",
       "      <td>rawsignal</td>\n",
       "      <td>UZA</td>\n",
       "      <td>257777807</td>\n",
       "      <td>Taxillair</td>\n",
       "    </tr>\n",
       "  </tbody>\n",
       "</table>\n",
       "<p>1988557 rows × 8 columns</p>\n",
       "</div>"
      ],
      "text/plain": [
       "                 time  value NICU_ID         field measurement hospital_ID  \\\n",
       "0        1.630454e+09    171  Bed  1  signal_value   rawsignal         UZA   \n",
       "1        1.630454e+09    170  Bed  1  signal_value   rawsignal         UZA   \n",
       "2        1.630454e+09    170  Bed  1  signal_value   rawsignal         UZA   \n",
       "3        1.630454e+09    170  Bed  1  signal_value   rawsignal         UZA   \n",
       "4        1.630455e+09    169  Bed  1  signal_value   rawsignal         UZA   \n",
       "...               ...    ...     ...           ...         ...         ...   \n",
       "1988552  1.638763e+09     99  Bed  6  signal_value   rawsignal         UZA   \n",
       "1988553  1.638778e+09    101  Bed  6  signal_value   rawsignal         UZA   \n",
       "1988554  1.638792e+09    100  Bed  6  signal_value   rawsignal         UZA   \n",
       "1988555  1.638806e+09    102  Bed  6  signal_value   rawsignal         UZA   \n",
       "1988556  1.638821e+09     99  Bed  6  signal_value   rawsignal         UZA   \n",
       "\n",
       "         patient_ID signal_type  \n",
       "0         257777778          HF  \n",
       "1         257777778          HF  \n",
       "2         257777778          HF  \n",
       "3         257777778          HF  \n",
       "4         257777778          HF  \n",
       "...             ...         ...  \n",
       "1988552   257777807   Taxillair  \n",
       "1988553   257777807   Taxillair  \n",
       "1988554   257777807   Taxillair  \n",
       "1988555   257777807   Taxillair  \n",
       "1988556   257777807   Taxillair  \n",
       "\n",
       "[1988557 rows x 8 columns]"
      ]
     },
     "execution_count": 4,
     "metadata": {},
     "output_type": "execute_result"
    }
   ],
   "source": [
    "patient_data = pd.read_csv(\"patient_rawsignals.txt\",  sep = \";\")\n",
    "patient_data"
   ]
  },
  {
   "cell_type": "code",
   "execution_count": 5,
   "metadata": {},
   "outputs": [
    {
     "data": {
      "text/plain": [
       "array([257777778, 257777779, 257777781, 257777783, 257777785, 257777786,\n",
       "       257777787, 257777788, 257777789, 257777790, 257777792, 257777793,\n",
       "       257777795, 257777796, 257777798, 257777799, 257777800, 257777801,\n",
       "       257777802, 257777803, 257777804, 257777805, 257777807])"
      ]
     },
     "execution_count": 5,
     "metadata": {},
     "output_type": "execute_result"
    }
   ],
   "source": [
    "my_patients = np.unique(patient_data['patient_ID'])\n",
    "my_patients "
   ]
  },
  {
   "cell_type": "code",
   "execution_count": 37,
   "metadata": {},
   "outputs": [],
   "source": [
    "patient_subset = patient_data[patient_data['patient_ID'] == 257777793]\n",
    "\n",
    "# some time calc\n",
    "patient_end_time = max(patient_subset['time'])\n",
    "last_48h_start = patient_end_time - 2*24*60*60\n",
    "\n",
    "HF  = patient_subset.loc[patient_subset['signal_type'] == 'HF', ['time', 'value'] ]\n",
    "HF.loc[HF['value'] > 250, 'value'] = np.nan\n",
    "\n",
    "low_HF = HF[HF['value'] < 100]\n",
    "normal_HF = HF[HF['value'] > 100]\n",
    "\n",
    "normal_48h = normal_HF[np.logical_and(normal_HF['time'] >= last_48h_start, normal_HF['time'] < patient_end_time)]\n",
    "low_HF_48h = low_HF[np.logical_and(low_HF['time'] >= last_48h_start, low_HF['time'] < patient_end_time)]\n",
    "\n",
    "# 3 features\n",
    "avg_HF_48h_last = np.mean(normal_48h['value'])\n",
    "low_count_48h = low_HF_48h['value'].shape[0]\n",
    "low_low_48h = low_HF_48h[low_HF_48h['value'] < 75].shape[0]\n",
    "\n",
    "\n",
    "\n",
    "\n"
   ]
  },
  {
   "cell_type": "code",
   "execution_count": 38,
   "metadata": {},
   "outputs": [
    {
     "data": {
      "text/plain": [
       "14"
      ]
     },
     "execution_count": 38,
     "metadata": {},
     "output_type": "execute_result"
    }
   ],
   "source": [
    "low_low_48h"
   ]
  },
  {
   "cell_type": "code",
   "execution_count": 40,
   "metadata": {},
   "outputs": [
    {
     "name": "stdout",
     "output_type": "stream",
     "text": [
      "257777778\n",
      "257777779\n",
      "257777781\n",
      "257777783\n",
      "257777785\n",
      "257777786\n",
      "257777787\n",
      "257777788\n",
      "257777789\n",
      "257777790\n",
      "257777792\n",
      "257777793\n",
      "257777795\n",
      "257777796\n",
      "257777798\n",
      "257777799\n",
      "257777800\n",
      "257777801\n",
      "257777802\n",
      "257777803\n",
      "257777804\n",
      "257777805\n",
      "257777807\n"
     ]
    }
   ],
   "source": [
    "Feature_matrix = np.empty((0, 3), float) # initialization of empty ndarray\n",
    "for patient in my_patients:\n",
    "    print(patient)\n",
    "    \n",
    "    patient_subset = patient_data[patient_data['patient_ID'] == patient]\n",
    "\n",
    "    # some time calc\n",
    "    patient_end_time = max(patient_subset['time'])\n",
    "    last_48h_start = patient_end_time - 2*24*60*60\n",
    "\n",
    "    HF  = patient_subset.loc[patient_subset['signal_type'] == 'HF', ['time', 'value'] ]\n",
    "    HF.loc[HF['value'] > 250, 'value'] = np.nan\n",
    "\n",
    "    low_HF = HF[HF['value'] < 100]\n",
    "    normal_HF = HF[HF['value'] > 100]\n",
    "\n",
    "    normal_48h = normal_HF[np.logical_and(normal_HF['time'] >= last_48h_start, normal_HF['time'] < patient_end_time)]\n",
    "    low_HF_48h = low_HF[np.logical_and(low_HF['time'] >= last_48h_start, low_HF['time'] < patient_end_time)]\n",
    "\n",
    "    # 3 features\n",
    "    avg_HF_48h_last = np.mean(normal_48h['value'])\n",
    "    low_count_48h = low_HF_48h['value'].shape[0]\n",
    "    low_low_48h = low_HF_48h[low_HF_48h['value'] < 75].shape[0]\n",
    "\n",
    "    \n",
    "    Features = [[avg_HF_48h_last, low_count_48h, low_low_48h]]\n",
    "           \n",
    "    Feature_matrix = np.append(Feature_matrix, Features, axis = 0) \n",
    "\n",
    "#RGB_Sum_results    "
   ]
  },
  {
   "cell_type": "code",
   "execution_count": 41,
   "metadata": {},
   "outputs": [
    {
     "data": {
      "text/plain": [
       "array([[1.81208986e+02, 1.80000000e+01, 0.00000000e+00],\n",
       "       [2.12480035e+02, 0.00000000e+00, 0.00000000e+00],\n",
       "       [2.02322031e+02, 7.00000000e+00, 0.00000000e+00],\n",
       "       [1.41696817e+02, 1.10000000e+01, 1.00000000e+01],\n",
       "       [1.20120542e+02, 1.29600000e+03, 2.30000000e+01],\n",
       "       [1.88123869e+02, 1.20000000e+01, 0.00000000e+00],\n",
       "       [2.01581783e+02, 6.00000000e+00, 0.00000000e+00],\n",
       "       [1.34390941e+02, 2.00000000e+01, 2.00000000e+01],\n",
       "       [1.31931323e+02, 2.30000000e+01, 2.30000000e+01],\n",
       "       [1.81366818e+02, 1.60000000e+01, 0.00000000e+00],\n",
       "       [1.54189481e+02, 1.80000000e+01, 8.00000000e+00],\n",
       "       [1.21811978e+02, 2.16700000e+03, 1.40000000e+01],\n",
       "       [1.49232834e+02, 2.20000000e+01, 1.20000000e+01],\n",
       "       [1.31742385e+02, 1.50000000e+01, 1.50000000e+01],\n",
       "       [1.26327905e+02, 3.53000000e+02, 2.10000000e+01],\n",
       "       [1.69169887e+02, 1.50000000e+01, 0.00000000e+00],\n",
       "       [1.52186488e+02, 1.70000000e+01, 1.30000000e+01],\n",
       "       [1.27829735e+02, 1.60000000e+01, 1.60000000e+01],\n",
       "       [1.22046041e+02, 2.60000000e+01, 2.60000000e+01],\n",
       "       [1.32923947e+02, 1.40000000e+01, 1.40000000e+01],\n",
       "       [2.00893428e+02, 6.00000000e+00, 0.00000000e+00],\n",
       "       [1.58352194e+02, 1.60000000e+01, 2.00000000e+00],\n",
       "       [1.57975126e+02, 1.10000000e+01, 3.00000000e+00]])"
      ]
     },
     "execution_count": 41,
     "metadata": {},
     "output_type": "execute_result"
    }
   ],
   "source": [
    "Feature_matrix"
   ]
  },
  {
   "cell_type": "markdown",
   "metadata": {},
   "source": [
    "## Building the outcome vector (flower type for each file)\n"
   ]
  },
  {
   "cell_type": "code",
   "execution_count": null,
   "metadata": {},
   "outputs": [],
   "source": []
  }
 ],
 "metadata": {
  "kernelspec": {
   "display_name": "Python 3",
   "language": "python",
   "name": "python3"
  },
  "language_info": {
   "codemirror_mode": {
    "name": "ipython",
    "version": 3
   },
   "file_extension": ".py",
   "mimetype": "text/x-python",
   "name": "python",
   "nbconvert_exporter": "python",
   "pygments_lexer": "ipython3",
   "version": "3.8.5"
  }
 },
 "nbformat": 4,
 "nbformat_minor": 4
}
