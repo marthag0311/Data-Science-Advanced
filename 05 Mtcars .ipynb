{
 "cells": [
  {
   "cell_type": "code",
   "execution_count": null,
   "metadata": {},
   "outputs": [],
   "source": [
    "import copy  # to copy variables\n",
    "\n",
    "import numpy as np # To do some calculations\n",
    "\n",
    "import pandas as pd # To work with dataframes (easier matrices)\n",
    "\n",
    "import datetime as dt # to work with time/date\n",
    "\n",
    "from os import listdir # To get a list of files in a folder\n",
    "\n",
    "import matplotlib.image as img # To load the images\n",
    "\n",
    "import matplotlib.pyplot as plt # To plot the images\n",
    "\n",
    "from sklearn.metrics import accuracy_score\n",
    "\n",
    "from sklearn.ensemble import RandomForestClassifier # The machine learning model "
   ]
  },
  {
   "cell_type": "code",
   "execution_count": null,
   "metadata": {},
   "outputs": [],
   "source": []
  },
  {
   "cell_type": "code",
   "execution_count": null,
   "metadata": {},
   "outputs": [],
   "source": []
  }
 ],
 "metadata": {
  "kernelspec": {
   "display_name": "Python 3",
   "language": "python",
   "name": "python3"
  },
  "language_info": {
   "codemirror_mode": {
    "name": "ipython",
    "version": 3
   },
   "file_extension": ".py",
   "mimetype": "text/x-python",
   "name": "python",
   "nbconvert_exporter": "python",
   "pygments_lexer": "ipython3",
   "version": "3.8.5"
  }
 },
 "nbformat": 4,
 "nbformat_minor": 4
}
