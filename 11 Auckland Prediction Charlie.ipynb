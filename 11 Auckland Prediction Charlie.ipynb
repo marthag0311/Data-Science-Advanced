{
 "cells": [
  {
   "cell_type": "code",
   "execution_count": 2,
   "metadata": {},
   "outputs": [
    {
     "name": "stderr",
     "output_type": "stream",
     "text": [
      "Importing plotly failed. Interactive plots will not work.\n"
     ]
    }
   ],
   "source": [
    "import pandas as pd\n",
    "import numpy as np\n",
    "import os\n",
    "\n",
    "from prophet import Prophet\n",
    "import holidays\n",
    "\n",
    "import matplotlib.pyplot as plt"
   ]
  },
  {
   "cell_type": "code",
   "execution_count": 3,
   "metadata": {},
   "outputs": [],
   "source": [
    "files = os.listdir(\"cycling_Auckland\")\n",
    "files = [v for v in files if 'count' in v]\n"
   ]
  },
  {
   "cell_type": "code",
   "execution_count": 4,
   "metadata": {},
   "outputs": [
    {
     "ename": "KeyError",
     "evalue": "\"None of [Index(['datetime', 'Tamaki Drive EB'], dtype='object')] are in the [columns]\"",
     "output_type": "error",
     "traceback": [
      "\u001b[1;31m---------------------------------------------------------------------------\u001b[0m",
      "\u001b[1;31mKeyError\u001b[0m                                  Traceback (most recent call last)",
      "\u001b[1;32m<ipython-input-4-4e8abc440db6>\u001b[0m in \u001b[0;36m<module>\u001b[1;34m\u001b[0m\n\u001b[0;32m      5\u001b[0m \u001b[1;32mfor\u001b[0m \u001b[0mfile\u001b[0m \u001b[1;32min\u001b[0m \u001b[0mfiles\u001b[0m\u001b[1;33m:\u001b[0m\u001b[1;33m\u001b[0m\u001b[1;33m\u001b[0m\u001b[0m\n\u001b[0;32m      6\u001b[0m     \u001b[0mcurrent_file\u001b[0m \u001b[1;33m=\u001b[0m \u001b[0mpd\u001b[0m\u001b[1;33m.\u001b[0m\u001b[0mread_csv\u001b[0m\u001b[1;33m(\u001b[0m\u001b[0mos\u001b[0m\u001b[1;33m.\u001b[0m\u001b[0mpath\u001b[0m\u001b[1;33m.\u001b[0m\u001b[0mjoin\u001b[0m\u001b[1;33m(\u001b[0m\u001b[1;34m\"cycling_Auckland\"\u001b[0m\u001b[1;33m,\u001b[0m \u001b[0mfile\u001b[0m\u001b[1;33m)\u001b[0m\u001b[1;33m)\u001b[0m\u001b[1;33m\u001b[0m\u001b[1;33m\u001b[0m\u001b[0m\n\u001b[1;32m----> 7\u001b[1;33m     \u001b[0mdata_list\u001b[0m\u001b[1;33m.\u001b[0m\u001b[0mappend\u001b[0m\u001b[1;33m(\u001b[0m\u001b[0mcurrent_file\u001b[0m\u001b[1;33m[\u001b[0m\u001b[1;33m[\u001b[0m\u001b[1;34m'datetime'\u001b[0m\u001b[1;33m,\u001b[0m \u001b[1;34m'Tamaki Drive EB'\u001b[0m\u001b[1;33m]\u001b[0m\u001b[1;33m]\u001b[0m\u001b[1;33m)\u001b[0m\u001b[1;33m\u001b[0m\u001b[1;33m\u001b[0m\u001b[0m\n\u001b[0m\u001b[0;32m      8\u001b[0m \u001b[1;33m\u001b[0m\u001b[0m\n\u001b[0;32m      9\u001b[0m \u001b[0mTamaki\u001b[0m \u001b[1;33m=\u001b[0m \u001b[0mpd\u001b[0m\u001b[1;33m.\u001b[0m\u001b[0mconcat\u001b[0m\u001b[1;33m(\u001b[0m\u001b[0mdata_list\u001b[0m\u001b[1;33m)\u001b[0m\u001b[1;33m\u001b[0m\u001b[1;33m\u001b[0m\u001b[0m\n",
      "\u001b[1;32m~\\anaconda3\\lib\\site-packages\\pandas\\core\\frame.py\u001b[0m in \u001b[0;36m__getitem__\u001b[1;34m(self, key)\u001b[0m\n\u001b[0;32m   2906\u001b[0m             \u001b[1;32mif\u001b[0m \u001b[0mis_iterator\u001b[0m\u001b[1;33m(\u001b[0m\u001b[0mkey\u001b[0m\u001b[1;33m)\u001b[0m\u001b[1;33m:\u001b[0m\u001b[1;33m\u001b[0m\u001b[1;33m\u001b[0m\u001b[0m\n\u001b[0;32m   2907\u001b[0m                 \u001b[0mkey\u001b[0m \u001b[1;33m=\u001b[0m \u001b[0mlist\u001b[0m\u001b[1;33m(\u001b[0m\u001b[0mkey\u001b[0m\u001b[1;33m)\u001b[0m\u001b[1;33m\u001b[0m\u001b[1;33m\u001b[0m\u001b[0m\n\u001b[1;32m-> 2908\u001b[1;33m             \u001b[0mindexer\u001b[0m \u001b[1;33m=\u001b[0m \u001b[0mself\u001b[0m\u001b[1;33m.\u001b[0m\u001b[0mloc\u001b[0m\u001b[1;33m.\u001b[0m\u001b[0m_get_listlike_indexer\u001b[0m\u001b[1;33m(\u001b[0m\u001b[0mkey\u001b[0m\u001b[1;33m,\u001b[0m \u001b[0maxis\u001b[0m\u001b[1;33m=\u001b[0m\u001b[1;36m1\u001b[0m\u001b[1;33m,\u001b[0m \u001b[0mraise_missing\u001b[0m\u001b[1;33m=\u001b[0m\u001b[1;32mTrue\u001b[0m\u001b[1;33m)\u001b[0m\u001b[1;33m[\u001b[0m\u001b[1;36m1\u001b[0m\u001b[1;33m]\u001b[0m\u001b[1;33m\u001b[0m\u001b[1;33m\u001b[0m\u001b[0m\n\u001b[0m\u001b[0;32m   2909\u001b[0m \u001b[1;33m\u001b[0m\u001b[0m\n\u001b[0;32m   2910\u001b[0m         \u001b[1;31m# take() does not accept boolean indexers\u001b[0m\u001b[1;33m\u001b[0m\u001b[1;33m\u001b[0m\u001b[1;33m\u001b[0m\u001b[0m\n",
      "\u001b[1;32m~\\anaconda3\\lib\\site-packages\\pandas\\core\\indexing.py\u001b[0m in \u001b[0;36m_get_listlike_indexer\u001b[1;34m(self, key, axis, raise_missing)\u001b[0m\n\u001b[0;32m   1252\u001b[0m             \u001b[0mkeyarr\u001b[0m\u001b[1;33m,\u001b[0m \u001b[0mindexer\u001b[0m\u001b[1;33m,\u001b[0m \u001b[0mnew_indexer\u001b[0m \u001b[1;33m=\u001b[0m \u001b[0max\u001b[0m\u001b[1;33m.\u001b[0m\u001b[0m_reindex_non_unique\u001b[0m\u001b[1;33m(\u001b[0m\u001b[0mkeyarr\u001b[0m\u001b[1;33m)\u001b[0m\u001b[1;33m\u001b[0m\u001b[1;33m\u001b[0m\u001b[0m\n\u001b[0;32m   1253\u001b[0m \u001b[1;33m\u001b[0m\u001b[0m\n\u001b[1;32m-> 1254\u001b[1;33m         \u001b[0mself\u001b[0m\u001b[1;33m.\u001b[0m\u001b[0m_validate_read_indexer\u001b[0m\u001b[1;33m(\u001b[0m\u001b[0mkeyarr\u001b[0m\u001b[1;33m,\u001b[0m \u001b[0mindexer\u001b[0m\u001b[1;33m,\u001b[0m \u001b[0maxis\u001b[0m\u001b[1;33m,\u001b[0m \u001b[0mraise_missing\u001b[0m\u001b[1;33m=\u001b[0m\u001b[0mraise_missing\u001b[0m\u001b[1;33m)\u001b[0m\u001b[1;33m\u001b[0m\u001b[1;33m\u001b[0m\u001b[0m\n\u001b[0m\u001b[0;32m   1255\u001b[0m         \u001b[1;32mreturn\u001b[0m \u001b[0mkeyarr\u001b[0m\u001b[1;33m,\u001b[0m \u001b[0mindexer\u001b[0m\u001b[1;33m\u001b[0m\u001b[1;33m\u001b[0m\u001b[0m\n\u001b[0;32m   1256\u001b[0m \u001b[1;33m\u001b[0m\u001b[0m\n",
      "\u001b[1;32m~\\anaconda3\\lib\\site-packages\\pandas\\core\\indexing.py\u001b[0m in \u001b[0;36m_validate_read_indexer\u001b[1;34m(self, key, indexer, axis, raise_missing)\u001b[0m\n\u001b[0;32m   1296\u001b[0m             \u001b[1;32mif\u001b[0m \u001b[0mmissing\u001b[0m \u001b[1;33m==\u001b[0m \u001b[0mlen\u001b[0m\u001b[1;33m(\u001b[0m\u001b[0mindexer\u001b[0m\u001b[1;33m)\u001b[0m\u001b[1;33m:\u001b[0m\u001b[1;33m\u001b[0m\u001b[1;33m\u001b[0m\u001b[0m\n\u001b[0;32m   1297\u001b[0m                 \u001b[0maxis_name\u001b[0m \u001b[1;33m=\u001b[0m \u001b[0mself\u001b[0m\u001b[1;33m.\u001b[0m\u001b[0mobj\u001b[0m\u001b[1;33m.\u001b[0m\u001b[0m_get_axis_name\u001b[0m\u001b[1;33m(\u001b[0m\u001b[0maxis\u001b[0m\u001b[1;33m)\u001b[0m\u001b[1;33m\u001b[0m\u001b[1;33m\u001b[0m\u001b[0m\n\u001b[1;32m-> 1298\u001b[1;33m                 \u001b[1;32mraise\u001b[0m \u001b[0mKeyError\u001b[0m\u001b[1;33m(\u001b[0m\u001b[1;34mf\"None of [{key}] are in the [{axis_name}]\"\u001b[0m\u001b[1;33m)\u001b[0m\u001b[1;33m\u001b[0m\u001b[1;33m\u001b[0m\u001b[0m\n\u001b[0m\u001b[0;32m   1299\u001b[0m \u001b[1;33m\u001b[0m\u001b[0m\n\u001b[0;32m   1300\u001b[0m             \u001b[1;31m# We (temporarily) allow for some missing keys with .loc, except in\u001b[0m\u001b[1;33m\u001b[0m\u001b[1;33m\u001b[0m\u001b[1;33m\u001b[0m\u001b[0m\n",
      "\u001b[1;31mKeyError\u001b[0m: \"None of [Index(['datetime', 'Tamaki Drive EB'], dtype='object')] are in the [columns]\""
     ]
    }
   ],
   "source": [
    "# google searches: Multiple files pandas concat\n",
    "# Python aggrgate timestamp per day\n",
    "\n",
    "data_list = []\n",
    "for file in files:\n",
    "    current_file = pd.read_csv(os.path.join(\"cycling_Auckland\", file))\n",
    "    data_list.append(current_file[['datetime', 'Tamaki Drive EB']])\n",
    "\n",
    "Tamaki = pd.concat(data_list) \n",
    "\n",
    "Tamaki['datetime'] = pd.to_datetime(Tamaki['datetime'])\n",
    "Tamaki['datetime'] = pd.to_datetime(Tamaki['datetime'])\n",
    "Tamaki = Tamaki.sort_values(by = 'datetime')\n",
    "Tamaki['dag'] = Tamaki['datetime'].dt.date\n",
    "Tamaki = pd.DataFrame(Tamaki.groupby('dag', as_index = False).sum())\n",
    "\n",
    "Tamaki"
   ]
  },
  {
   "cell_type": "code",
   "execution_count": null,
   "metadata": {},
   "outputs": [],
   "source": [
    "temp_files = ['temp_day.csv', 'temp_morning.csv','temp_commute.csv']\n",
    "temp_list = []\n",
    "for file in temp_files:\n",
    "    current_file = pd.read_csv(os.path.join(\"weather/hourly/commute\", file))\n",
    "    #print(current_file.head())\n",
    "    temp_list.append(current_file.iloc[:,[0,4]])\n",
    "    \n",
    "temp = pd.concat(temp_list) \n",
    "temp.columns = [\"day\", \"temp\"]\n",
    "\n",
    "temp['day'] = pd.to_datetime(temp['day'])\n",
    "temp = pd.DataFrame(temp.groupby('day', as_index = False).max())    \n",
    "temp"
   ]
  },
  {
   "cell_type": "code",
   "execution_count": null,
   "metadata": {},
   "outputs": [],
   "source": [
    "wind_files = ['wind_day.csv', 'wind_morning.csv','wind_commute.csv']\n",
    "wind_list = []\n",
    "for file in wind_files:\n",
    "    current_file = pd.read_csv(os.path.join(\"weather/hourly/commute\", file))\n",
    "    #print(current_file.head())\n",
    "    wind_list.append(current_file.iloc[:,[0,2]])\n",
    "    \n",
    "wind = pd.concat(wind_list) \n",
    "wind.columns = [\"day\", \"wind\"]\n",
    "\n",
    "wind['day'] = pd.to_datetime(wind['day'])\n",
    "wind = pd.DataFrame(wind.groupby('day', as_index = False).max())    \n",
    "wind"
   ]
  },
  {
   "cell_type": "code",
   "execution_count": null,
   "metadata": {},
   "outputs": [],
   "source": [
    "rain_files = ['rain_morning.csv', 'rain_commute.csv','rain_day.csv']\n",
    "rain_list = []\n",
    "for file in rain_files:\n",
    "    current_file = pd.read_csv(os.path.join(\"weather/hourly/commute\", file))\n",
    "    #print(current_file.head())\n",
    "    rain_list.append(current_file)\n",
    "    \n",
    "rain = pd.concat(rain_list) \n",
    "rain.columns = [\"day\", \"rain\"]\n",
    "\n",
    "rain['day'] = pd.to_datetime(rain['day'])\n",
    "rain = pd.DataFrame(rain.groupby('day', as_index = False).sum())    \n",
    "rain"
   ]
  },
  {
   "cell_type": "code",
   "execution_count": null,
   "metadata": {},
   "outputs": [],
   "source": [
    "sun_files = ['sun_day.csv', 'sun_commute.csv','sun_morning.csv']\n",
    "sun_list = []\n",
    "for file in sun_files:\n",
    "    current_file = pd.read_csv(os.path.join(\"weather/hourly/commute\", file))\n",
    "    #print(current_file.head())\n",
    "    sun_list.append(current_file)\n",
    "    \n",
    "sun = pd.concat(sun_list) \n",
    "sun\n",
    "sun.columns = [\"day\", \"sun\"]\n",
    "\n",
    "sun['day'] = pd.to_datetime(sun['day'])\n",
    "sun = pd.DataFrame(sun.groupby('day', as_index = False).sum())    \n",
    "sun"
   ]
  },
  {
   "cell_type": "code",
   "execution_count": null,
   "metadata": {},
   "outputs": [],
   "source": [
    "all_weather = sun\n",
    "all_weather = all_weather.merge(wind)\n",
    "all_weather = all_weather.merge(rain)\n",
    "all_weather = all_weather.merge(temp)\n",
    "all_weather"
   ]
  },
  {
   "cell_type": "code",
   "execution_count": null,
   "metadata": {},
   "outputs": [],
   "source": [
    "Tamaki_weather = Tamaki\n",
    "Tamaki_weather['dag'] = pd.to_datetime(Tamaki_weather['dag'])\n",
    "Tamaki_weather = Tamaki_weather[np.logical_and(Tamaki_weather['dag'] >= all_weather ['day'].min(),\n",
    "                                              Tamaki_weather['dag'] <= all_weather ['day'].max()) ]\n",
    "Tamaki_weather = Tamaki_weather.reset_index(drop=True)\n",
    "Tamaki_weather"
   ]
  },
  {
   "cell_type": "code",
   "execution_count": null,
   "metadata": {},
   "outputs": [],
   "source": [
    "if (all(Tamaki_weather['dag'] == all_weather['day'])):\n",
    "    print(\"days match up, merging weather and cyclist counter data\")\n",
    "    Tamaki_merged  = pd.concat([Tamaki_weather , all_weather[[\"sun\", \"wind\", \"rain\", \"temp\"]]], axis=1)\n",
    "    \n",
    "Tamaki_merged"
   ]
  },
  {
   "cell_type": "code",
   "execution_count": null,
   "metadata": {},
   "outputs": [],
   "source": [
    "Tamaki_merged.columns = ['ds', 'y', 'sun', 'wind', 'rain', 'temp']\n",
    "\n",
    "Tamaki_train = Tamaki_merged[Tamaki_merged['ds'] < '2018']\n",
    "Tamaki_test = Tamaki_merged[Tamaki_merged['ds'] >= '2018']"
   ]
  },
  {
   "cell_type": "code",
   "execution_count": null,
   "metadata": {},
   "outputs": [],
   "source": [
    "m = Prophet()\n",
    "m.add_regressor('sun')\n",
    "m.add_regressor('wind')\n",
    "m.add_regressor('rain')\n",
    "m.add_regressor('temp')\n",
    "m.fit(Tamaki_train)\n"
   ]
  },
  {
   "cell_type": "code",
   "execution_count": null,
   "metadata": {},
   "outputs": [],
   "source": [
    "forecast_days = 152\n",
    "future = m.make_future_dataframe(periods=forecast_days )\n",
    "future  = future.merge(Tamaki_merged[['ds', 'sun', 'wind', 'rain', 'temp']])\n",
    "future"
   ]
  },
  {
   "cell_type": "code",
   "execution_count": null,
   "metadata": {},
   "outputs": [],
   "source": [
    "forecast = m.predict(future)\n",
    "forecast['truth'] = Tamaki_merged['y']"
   ]
  },
  {
   "cell_type": "code",
   "execution_count": null,
   "metadata": {},
   "outputs": [],
   "source": [
    "forecast"
   ]
  },
  {
   "cell_type": "code",
   "execution_count": null,
   "metadata": {},
   "outputs": [],
   "source": [
    "forecast_plot = forecast[forecast['ds'] >= '2018']\n",
    "\n",
    "plt.figure(figsize = (10,7))\n",
    "plt.plot(forecast_plot['ds'], forecast_plot['yhat'], label='Forecast', zorder = 1)\n",
    "plt.plot(forecast_plot['ds'], forecast_plot['truth'], label='True cyclists', zorder = 0, color = 'orange')                                                                                       \n",
    "plt.fill_between(forecast_plot['ds'], forecast_plot['yhat_upper'], forecast_plot['yhat_lower'],\n",
    "                 alpha=.2, label='Confidence')\n",
    "plt.title('2018 auckland forecast')\n",
    "plt.legend()\n",
    "plt.show()"
   ]
  },
  {
   "cell_type": "code",
   "execution_count": null,
   "metadata": {},
   "outputs": [],
   "source": [
    "RMSE = np.sqrt(sum(np.square(forecast_plot['yhat'] - forecast_plot['truth']))/len(forecast_plot['yhat']))\n",
    "RMSE"
   ]
  },
  {
   "cell_type": "markdown",
   "metadata": {},
   "source": [
    "# including holiday"
   ]
  },
  {
   "cell_type": "code",
   "execution_count": null,
   "metadata": {},
   "outputs": [],
   "source": [
    "holiday_DF = pd.DataFrame(holidays.NZ(prov='AUK', years=np.arange(2012, 2019)).items(), columns=['ds', 'holiday'])\n",
    "holiday_DF.sort_values(\"ds\", inplace = True)\n",
    "holiday_DF"
   ]
  },
  {
   "cell_type": "code",
   "execution_count": null,
   "metadata": {},
   "outputs": [],
   "source": [
    "m = Prophet(holidays = holiday_DF)\n",
    "m.add_regressor('sun')\n",
    "m.add_regressor('wind')\n",
    "m.add_regressor('rain')\n",
    "m.add_regressor('temp')\n",
    "m.fit(Tamaki_train[Tamaki_train['ds'] >=\"2015\"])\n",
    "\n",
    "forecast_days = 152\n",
    "future = m.make_future_dataframe(periods=forecast_days )\n",
    "\n",
    "future  = future.merge(Tamaki_merged.loc[Tamaki_merged['ds'] >= \"2015\",['ds', 'sun', 'wind', 'rain', 'temp']])\n",
    "future\n",
    "\n",
    "forecast = m.predict(future)\n",
    "forecast['truth'] = Tamaki_merged.loc[Tamaki_merged['ds'] >= \"2015\",'y'].reset_index(drop = True)\n",
    "\n",
    "\n",
    "forecast_plot = forecast[forecast['ds'] >= '2018']\n",
    "\n",
    "plt.figure(figsize = (10,7))\n",
    "plt.plot(forecast_plot['ds'], forecast_plot['yhat'], label='Forecast', zorder = 1)\n",
    "plt.plot(forecast_plot['ds'], forecast_plot['truth'], label='True cyclists', zorder = 0, color = 'orange')                                                                                       \n",
    "plt.fill_between(forecast_plot['ds'], forecast_plot['yhat_upper'], forecast_plot['yhat_lower'],\n",
    "                 alpha=.2, label='Confidence')\n",
    "plt.title('2018 auckland forecast')\n",
    "plt.legend()\n",
    "plt.show()"
   ]
  },
  {
   "cell_type": "code",
   "execution_count": null,
   "metadata": {},
   "outputs": [],
   "source": [
    "RMSE = np.sqrt(sum(np.square(forecast_plot['yhat'] - forecast_plot['truth']))/len(forecast_plot['yhat']))\n",
    "RMSE"
   ]
  }
 ],
 "metadata": {
  "kernelspec": {
   "display_name": "Python 3",
   "language": "python",
   "name": "python3"
  },
  "language_info": {
   "codemirror_mode": {
    "name": "ipython",
    "version": 3
   },
   "file_extension": ".py",
   "mimetype": "text/x-python",
   "name": "python",
   "nbconvert_exporter": "python",
   "pygments_lexer": "ipython3",
   "version": "3.8.5"
  }
 },
 "nbformat": 4,
 "nbformat_minor": 5
}
